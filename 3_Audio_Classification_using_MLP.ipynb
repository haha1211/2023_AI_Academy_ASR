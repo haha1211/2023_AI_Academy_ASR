{
  "nbformat": 4,
  "nbformat_minor": 0,
  "metadata": {
    "colab": {
      "provenance": [],
      "authorship_tag": "ABX9TyNjDL2pPmRNxR8vloLgYsq0",
      "include_colab_link": true
    },
    "kernelspec": {
      "name": "python3",
      "display_name": "Python 3"
    },
    "language_info": {
      "name": "python"
    }
  },
  "cells": [
    {
      "cell_type": "markdown",
      "metadata": {
        "id": "view-in-github",
        "colab_type": "text"
      },
      "source": [
        "<a href=\"https://colab.research.google.com/github/june-oh/2023_AI_Academy_ASR/blob/main/3_Audio_Classification_using_MLP.ipynb\" target=\"_parent\"><img src=\"https://colab.research.google.com/assets/colab-badge.svg\" alt=\"Open In Colab\"/></a>"
      ]
    },
    {
      "cell_type": "markdown",
      "source": [
        "# 기초 MLP 모델 실습\n",
        "\n",
        "## Torch Dataset\n",
        "앞선 실습에서 사용했던 free-spoken-digit-dataset을 데이터로 사용\n",
        "\n",
        "MLP model을 이용하여 오디오를 분류하는 실습\n",
        "\n",
        "git cloning : \n",
        "```bash\n",
        "!git clone https://github.com/Jakobovski/free-spoken-digit-dataset\n",
        "```"
      ],
      "metadata": {
        "id": "rMMAjr50gIwz"
      }
    },
    {
      "cell_type": "code",
      "execution_count": null,
      "metadata": {
        "colab": {
          "base_uri": "https://localhost:8080/"
        },
        "id": "K5dWxmIJfylF",
        "outputId": "3584e6c3-59ae-4083-9e41-d6035099b1a4"
      },
      "outputs": [
        {
          "output_type": "stream",
          "name": "stdout",
          "text": [
            "Cloning into 'free-spoken-digit-dataset'...\n",
            "remote: Enumerating objects: 4243, done.\u001b[K\n",
            "remote: Counting objects: 100% (31/31), done.\u001b[K\n",
            "remote: Compressing objects: 100% (23/23), done.\u001b[K\n",
            "remote: Total 4243 (delta 16), reused 8 (delta 8), pack-reused 4212\u001b[K\n",
            "Receiving objects: 100% (4243/4243), 30.38 MiB | 18.42 MiB/s, done.\n",
            "Resolving deltas: 100% (120/120), done.\n"
          ]
        }
      ],
      "source": [
        "!git clone https://github.com/Jakobovski/free-spoken-digit-dataset"
      ]
    },
    {
      "cell_type": "code",
      "source": [
        "import torch\n",
        "import torchaudio\n",
        "from pathlib import Path"
      ],
      "metadata": {
        "id": "4noU46t3ghD6"
      },
      "execution_count": null,
      "outputs": []
    },
    {
      "cell_type": "markdown",
      "source": [
        "## PyTorch Daset Object 개념 \n",
        "`torch.utils.data.Dataset`의 subclass는 `__len__`과 `__getitem__`을 구현하기 위해 필요한 객체이다\n",
        "- `__len__` : 데이터셋의 아이템 수를 반환\n",
        "- `__getitem__`: 샘플과 레이블을 반환\n",
        "\n",
        "\n",
        "[그림]데이터를 직접적으로 가지고 있지 않지만 `__len__` 과 `__getitem__`을 통해 접근가능\n",
        "\n",
        "<img src=\"https://drek4537l1klr.cloudfront.net/stevens2/Figures/CH07_F02_Stevens2_GS.png\" width=400>"
      ],
      "metadata": {
        "id": "r-jlUCG1gn2k"
      }
    },
    {
      "cell_type": "code",
      "source": [
        "from torch.utils.data import Dataset,DataLoader"
      ],
      "metadata": {
        "id": "qcyWK5QygoTG"
      },
      "execution_count": null,
      "outputs": []
    },
    {
      "cell_type": "markdown",
      "source": [
        "## Dataset Calss 의 형식\n",
        "\n",
        "아래와 같이 3개의 method를 override하여 작성\n",
        "\n",
        "```python\n",
        "class MyCustomDataset(Dataset):\n",
        "    def __init__(self, ...):\n",
        "        # initialize Class\n",
        "        \n",
        "    def __getitem__(self, index):\n",
        "        # return samlpe(data) and label \n",
        "        return (img, label)\n",
        "\n",
        "    def __len__(self):\n",
        "      # of how many examples(images?) you have\n",
        "        return count \n",
        "```"
      ],
      "metadata": {
        "id": "JBZ2wHuqgsez"
      }
    },
    {
      "cell_type": "code",
      "source": [],
      "metadata": {
        "id": "YDo-QZGGgrSg"
      },
      "execution_count": null,
      "outputs": []
    }
  ]
}