{
  "nbformat": 4,
  "nbformat_minor": 0,
  "metadata": {
    "colab": {
      "provenance": [],
      "authorship_tag": "ABX9TyOHJkMYETy6FaW8hIEi8fAv",
      "include_colab_link": true
    },
    "kernelspec": {
      "name": "python3",
      "display_name": "Python 3"
    },
    "language_info": {
      "name": "python"
    },
    "accelerator": "GPU",
    "gpuClass": "standard",
    "widgets": {
      "application/vnd.jupyter.widget-state+json": {
        "612c9a0e783b48b3bda7d3e85f1dbca6": {
          "model_module": "@jupyter-widgets/controls",
          "model_name": "HBoxModel",
          "model_module_version": "1.5.0",
          "state": {
            "_dom_classes": [],
            "_model_module": "@jupyter-widgets/controls",
            "_model_module_version": "1.5.0",
            "_model_name": "HBoxModel",
            "_view_count": null,
            "_view_module": "@jupyter-widgets/controls",
            "_view_module_version": "1.5.0",
            "_view_name": "HBoxView",
            "box_style": "",
            "children": [
              "IPY_MODEL_0d1815c88c484133a438bf5998fadb8d",
              "IPY_MODEL_6f770529b72b46329ec06c98fa007295",
              "IPY_MODEL_9e5538a3cd5c4052b3b6449040efa313"
            ],
            "layout": "IPY_MODEL_65f96409d5364f8ea620605f38330c14"
          }
        },
        "0d1815c88c484133a438bf5998fadb8d": {
          "model_module": "@jupyter-widgets/controls",
          "model_name": "HTMLModel",
          "model_module_version": "1.5.0",
          "state": {
            "_dom_classes": [],
            "_model_module": "@jupyter-widgets/controls",
            "_model_module_version": "1.5.0",
            "_model_name": "HTMLModel",
            "_view_count": null,
            "_view_module": "@jupyter-widgets/controls",
            "_view_module_version": "1.5.0",
            "_view_name": "HTMLView",
            "description": "",
            "description_tooltip": null,
            "layout": "IPY_MODEL_179ac84f4068433d93562da022740387",
            "placeholder": "​",
            "style": "IPY_MODEL_7355d43e783742009c1ce943c3782371",
            "value": "100%"
          }
        },
        "6f770529b72b46329ec06c98fa007295": {
          "model_module": "@jupyter-widgets/controls",
          "model_name": "FloatProgressModel",
          "model_module_version": "1.5.0",
          "state": {
            "_dom_classes": [],
            "_model_module": "@jupyter-widgets/controls",
            "_model_module_version": "1.5.0",
            "_model_name": "FloatProgressModel",
            "_view_count": null,
            "_view_module": "@jupyter-widgets/controls",
            "_view_module_version": "1.5.0",
            "_view_name": "ProgressView",
            "bar_style": "success",
            "description": "",
            "description_tooltip": null,
            "layout": "IPY_MODEL_e2411d4143ba4a9290ef3c9e7268a97e",
            "max": 1,
            "min": 0,
            "orientation": "horizontal",
            "style": "IPY_MODEL_cd1bd16b3c9046fc97ef2b27eadebac7",
            "value": 1
          }
        },
        "9e5538a3cd5c4052b3b6449040efa313": {
          "model_module": "@jupyter-widgets/controls",
          "model_name": "HTMLModel",
          "model_module_version": "1.5.0",
          "state": {
            "_dom_classes": [],
            "_model_module": "@jupyter-widgets/controls",
            "_model_module_version": "1.5.0",
            "_model_name": "HTMLModel",
            "_view_count": null,
            "_view_module": "@jupyter-widgets/controls",
            "_view_module_version": "1.5.0",
            "_view_name": "HTMLView",
            "description": "",
            "description_tooltip": null,
            "layout": "IPY_MODEL_015209935d7a49bc930c11c48e122a51",
            "placeholder": "​",
            "style": "IPY_MODEL_b3f5aa202ca14fd5b378fd3cea508b82",
            "value": " 1/1 [00:01&lt;00:00,  1.10s/it]"
          }
        },
        "65f96409d5364f8ea620605f38330c14": {
          "model_module": "@jupyter-widgets/base",
          "model_name": "LayoutModel",
          "model_module_version": "1.2.0",
          "state": {
            "_model_module": "@jupyter-widgets/base",
            "_model_module_version": "1.2.0",
            "_model_name": "LayoutModel",
            "_view_count": null,
            "_view_module": "@jupyter-widgets/base",
            "_view_module_version": "1.2.0",
            "_view_name": "LayoutView",
            "align_content": null,
            "align_items": null,
            "align_self": null,
            "border": null,
            "bottom": null,
            "display": null,
            "flex": null,
            "flex_flow": null,
            "grid_area": null,
            "grid_auto_columns": null,
            "grid_auto_flow": null,
            "grid_auto_rows": null,
            "grid_column": null,
            "grid_gap": null,
            "grid_row": null,
            "grid_template_areas": null,
            "grid_template_columns": null,
            "grid_template_rows": null,
            "height": null,
            "justify_content": null,
            "justify_items": null,
            "left": null,
            "margin": null,
            "max_height": null,
            "max_width": null,
            "min_height": null,
            "min_width": null,
            "object_fit": null,
            "object_position": null,
            "order": null,
            "overflow": null,
            "overflow_x": null,
            "overflow_y": null,
            "padding": null,
            "right": null,
            "top": null,
            "visibility": null,
            "width": null
          }
        },
        "179ac84f4068433d93562da022740387": {
          "model_module": "@jupyter-widgets/base",
          "model_name": "LayoutModel",
          "model_module_version": "1.2.0",
          "state": {
            "_model_module": "@jupyter-widgets/base",
            "_model_module_version": "1.2.0",
            "_model_name": "LayoutModel",
            "_view_count": null,
            "_view_module": "@jupyter-widgets/base",
            "_view_module_version": "1.2.0",
            "_view_name": "LayoutView",
            "align_content": null,
            "align_items": null,
            "align_self": null,
            "border": null,
            "bottom": null,
            "display": null,
            "flex": null,
            "flex_flow": null,
            "grid_area": null,
            "grid_auto_columns": null,
            "grid_auto_flow": null,
            "grid_auto_rows": null,
            "grid_column": null,
            "grid_gap": null,
            "grid_row": null,
            "grid_template_areas": null,
            "grid_template_columns": null,
            "grid_template_rows": null,
            "height": null,
            "justify_content": null,
            "justify_items": null,
            "left": null,
            "margin": null,
            "max_height": null,
            "max_width": null,
            "min_height": null,
            "min_width": null,
            "object_fit": null,
            "object_position": null,
            "order": null,
            "overflow": null,
            "overflow_x": null,
            "overflow_y": null,
            "padding": null,
            "right": null,
            "top": null,
            "visibility": null,
            "width": null
          }
        },
        "7355d43e783742009c1ce943c3782371": {
          "model_module": "@jupyter-widgets/controls",
          "model_name": "DescriptionStyleModel",
          "model_module_version": "1.5.0",
          "state": {
            "_model_module": "@jupyter-widgets/controls",
            "_model_module_version": "1.5.0",
            "_model_name": "DescriptionStyleModel",
            "_view_count": null,
            "_view_module": "@jupyter-widgets/base",
            "_view_module_version": "1.2.0",
            "_view_name": "StyleView",
            "description_width": ""
          }
        },
        "e2411d4143ba4a9290ef3c9e7268a97e": {
          "model_module": "@jupyter-widgets/base",
          "model_name": "LayoutModel",
          "model_module_version": "1.2.0",
          "state": {
            "_model_module": "@jupyter-widgets/base",
            "_model_module_version": "1.2.0",
            "_model_name": "LayoutModel",
            "_view_count": null,
            "_view_module": "@jupyter-widgets/base",
            "_view_module_version": "1.2.0",
            "_view_name": "LayoutView",
            "align_content": null,
            "align_items": null,
            "align_self": null,
            "border": null,
            "bottom": null,
            "display": null,
            "flex": null,
            "flex_flow": null,
            "grid_area": null,
            "grid_auto_columns": null,
            "grid_auto_flow": null,
            "grid_auto_rows": null,
            "grid_column": null,
            "grid_gap": null,
            "grid_row": null,
            "grid_template_areas": null,
            "grid_template_columns": null,
            "grid_template_rows": null,
            "height": null,
            "justify_content": null,
            "justify_items": null,
            "left": null,
            "margin": null,
            "max_height": null,
            "max_width": null,
            "min_height": null,
            "min_width": null,
            "object_fit": null,
            "object_position": null,
            "order": null,
            "overflow": null,
            "overflow_x": null,
            "overflow_y": null,
            "padding": null,
            "right": null,
            "top": null,
            "visibility": null,
            "width": null
          }
        },
        "cd1bd16b3c9046fc97ef2b27eadebac7": {
          "model_module": "@jupyter-widgets/controls",
          "model_name": "ProgressStyleModel",
          "model_module_version": "1.5.0",
          "state": {
            "_model_module": "@jupyter-widgets/controls",
            "_model_module_version": "1.5.0",
            "_model_name": "ProgressStyleModel",
            "_view_count": null,
            "_view_module": "@jupyter-widgets/base",
            "_view_module_version": "1.2.0",
            "_view_name": "StyleView",
            "bar_color": null,
            "description_width": ""
          }
        },
        "015209935d7a49bc930c11c48e122a51": {
          "model_module": "@jupyter-widgets/base",
          "model_name": "LayoutModel",
          "model_module_version": "1.2.0",
          "state": {
            "_model_module": "@jupyter-widgets/base",
            "_model_module_version": "1.2.0",
            "_model_name": "LayoutModel",
            "_view_count": null,
            "_view_module": "@jupyter-widgets/base",
            "_view_module_version": "1.2.0",
            "_view_name": "LayoutView",
            "align_content": null,
            "align_items": null,
            "align_self": null,
            "border": null,
            "bottom": null,
            "display": null,
            "flex": null,
            "flex_flow": null,
            "grid_area": null,
            "grid_auto_columns": null,
            "grid_auto_flow": null,
            "grid_auto_rows": null,
            "grid_column": null,
            "grid_gap": null,
            "grid_row": null,
            "grid_template_areas": null,
            "grid_template_columns": null,
            "grid_template_rows": null,
            "height": null,
            "justify_content": null,
            "justify_items": null,
            "left": null,
            "margin": null,
            "max_height": null,
            "max_width": null,
            "min_height": null,
            "min_width": null,
            "object_fit": null,
            "object_position": null,
            "order": null,
            "overflow": null,
            "overflow_x": null,
            "overflow_y": null,
            "padding": null,
            "right": null,
            "top": null,
            "visibility": null,
            "width": null
          }
        },
        "b3f5aa202ca14fd5b378fd3cea508b82": {
          "model_module": "@jupyter-widgets/controls",
          "model_name": "DescriptionStyleModel",
          "model_module_version": "1.5.0",
          "state": {
            "_model_module": "@jupyter-widgets/controls",
            "_model_module_version": "1.5.0",
            "_model_name": "DescriptionStyleModel",
            "_view_count": null,
            "_view_module": "@jupyter-widgets/base",
            "_view_module_version": "1.2.0",
            "_view_name": "StyleView",
            "description_width": ""
          }
        }
      }
    }
  },
  "cells": [
    {
      "cell_type": "markdown",
      "metadata": {
        "id": "view-in-github",
        "colab_type": "text"
      },
      "source": [
        "<a href=\"https://colab.research.google.com/github/june-oh/2023_AI_Academy_ASR/blob/main/3_Audio_Classification_using_MLP.ipynb\" target=\"_parent\"><img src=\"https://colab.research.google.com/assets/colab-badge.svg\" alt=\"Open In Colab\"/></a>"
      ]
    },
    {
      "cell_type": "markdown",
      "source": [
        "# 기초 MLP 모델 실습\n",
        "\n",
        "## Torch Dataset\n",
        "앞선 실습에서 사용했던 free-spoken-digit-dataset을 데이터로 사용\n",
        "\n",
        "MLP model을 이용하여 오디오를 분류하는 실습\n",
        "\n",
        "git cloning : \n",
        "```bash\n",
        "!git clone https://github.com/Jakobovski/free-spoken-digit-dataset\n",
        "```"
      ],
      "metadata": {
        "id": "rMMAjr50gIwz"
      }
    },
    {
      "cell_type": "code",
      "execution_count": 1,
      "metadata": {
        "colab": {
          "base_uri": "https://localhost:8080/"
        },
        "id": "K5dWxmIJfylF",
        "outputId": "93b3e7fd-08a5-40e5-9d4d-9268eafa0103"
      },
      "outputs": [
        {
          "output_type": "stream",
          "name": "stdout",
          "text": [
            "Cloning into 'free-spoken-digit-dataset'...\n",
            "remote: Enumerating objects: 4243, done.\u001b[K\n",
            "remote: Counting objects: 100% (31/31), done.\u001b[K\n",
            "remote: Compressing objects: 100% (23/23), done.\u001b[K\n",
            "remote: Total 4243 (delta 16), reused 8 (delta 8), pack-reused 4212\u001b[K\n",
            "Receiving objects: 100% (4243/4243), 30.38 MiB | 17.76 MiB/s, done.\n",
            "Resolving deltas: 100% (120/120), done.\n"
          ]
        }
      ],
      "source": [
        "!git clone https://github.com/Jakobovski/free-spoken-digit-dataset"
      ]
    },
    {
      "cell_type": "markdown",
      "source": [
        "import packages"
      ],
      "metadata": {
        "id": "Schq3L8gpXqv"
      }
    },
    {
      "cell_type": "code",
      "source": [
        "import torch        # model, datset, tensor\n",
        "import torchaudio   # feature extraction, load audio\n",
        "from pathlib import Path  #file path"
      ],
      "metadata": {
        "id": "4noU46t3ghD6"
      },
      "execution_count": 3,
      "outputs": []
    },
    {
      "cell_type": "markdown",
      "source": [
        "## PyTorch Daset Object 개념 \n",
        "`torch.utils.data.Dataset`의 subclass는 `__len__`과 `__getitem__`을 구현하기 위해 필요한 객체이다\n",
        "- `__len__` : 데이터셋의 아이템 수를 반환\n",
        "- `__getitem__`: 샘플과 레이블을 반환\n",
        "\n",
        "\n",
        "[그림]데이터를 직접적으로 가지고 있지 않지만 `__len__` 과 `__getitem__`을 통해 접근가능\n",
        "\n",
        "<img src=\"https://drek4537l1klr.cloudfront.net/stevens2/Figures/CH07_F02_Stevens2_GS.png\" width=600>"
      ],
      "metadata": {
        "id": "r-jlUCG1gn2k"
      }
    },
    {
      "cell_type": "code",
      "source": [
        "x = [0,1,2,3]\n",
        "print(type(x))\n",
        "print(dir(x))\n",
        "\n",
        "# __len__\n",
        "print(len(x))\n",
        "\n",
        "# __getitem__\n",
        "print(x[0])\n"
      ],
      "metadata": {
        "colab": {
          "base_uri": "https://localhost:8080/"
        },
        "id": "YpS3whNpp0qi",
        "outputId": "7e50a1dc-6044-4dcc-9be9-2c2dd7b3c2e6"
      },
      "execution_count": 8,
      "outputs": [
        {
          "output_type": "stream",
          "name": "stdout",
          "text": [
            "<class 'list'>\n",
            "['__add__', '__class__', '__contains__', '__delattr__', '__delitem__', '__dir__', '__doc__', '__eq__', '__format__', '__ge__', '__getattribute__', '__getitem__', '__gt__', '__hash__', '__iadd__', '__imul__', '__init__', '__init_subclass__', '__iter__', '__le__', '__len__', '__lt__', '__mul__', '__ne__', '__new__', '__reduce__', '__reduce_ex__', '__repr__', '__reversed__', '__rmul__', '__setattr__', '__setitem__', '__sizeof__', '__str__', '__subclasshook__', 'append', 'clear', 'copy', 'count', 'extend', 'index', 'insert', 'pop', 'remove', 'reverse', 'sort']\n",
            "4\n",
            "0\n"
          ]
        }
      ]
    },
    {
      "cell_type": "code",
      "source": [
        "from torch.utils.data import Dataset,DataLoader"
      ],
      "metadata": {
        "id": "qcyWK5QygoTG"
      },
      "execution_count": 9,
      "outputs": []
    },
    {
      "cell_type": "markdown",
      "source": [
        "## Dataset Calss 의 형식\n",
        "\n",
        "아래와 같이 3개의 method를 override하여 작성\n",
        "\n",
        "```python\n",
        "class MyCustomDataset(Dataset):\n",
        "    def __init__(self, ...):\n",
        "        # initialize Class\n",
        "        \n",
        "    def __getitem__(self, index):\n",
        "        # return samlpe(data) and label \n",
        "        return (img, label)\n",
        "\n",
        "    def __len__(self):\n",
        "      # of how many examples(images?) you have\n",
        "        return count \n",
        "```"
      ],
      "metadata": {
        "id": "JBZ2wHuqgsez"
      }
    },
    {
      "cell_type": "markdown",
      "source": [
        "AudioDataSet 선언될 때에는 전체 데이터셋의 파일 목록을 가져오고\n",
        "\n",
        "호출될때에는 샘플의 경로를 리턴"
      ],
      "metadata": {
        "id": "AQKiHkourbS_"
      }
    },
    {
      "cell_type": "code",
      "source": [
        "!ls"
      ],
      "metadata": {
        "colab": {
          "base_uri": "https://localhost:8080/"
        },
        "id": "kX-rNIDfro4u",
        "outputId": "fd474922-190a-4f07-e3f9-90f4103217ed"
      },
      "execution_count": 10,
      "outputs": [
        {
          "output_type": "stream",
          "name": "stdout",
          "text": [
            "free-spoken-digit-dataset  sample_data\n"
          ]
        }
      ]
    },
    {
      "cell_type": "code",
      "source": [
        "class AudioDataSet(Dataset) : \n",
        "  def __init__(self):\n",
        "    self.filelist = list(Path(\"./free-spoken-digit-dataset/recordings/\").glob(\"*.wav\"))\n",
        "\n",
        "  def __len__(self):    \n",
        "    return len(self.filelist)\n",
        "\n",
        "  def __getitem__(self,idx):\n",
        "    return self.filelist[idx]\n",
        "\n",
        "\n",
        "      "
      ],
      "metadata": {
        "id": "YDo-QZGGgrSg"
      },
      "execution_count": 11,
      "outputs": []
    },
    {
      "cell_type": "code",
      "source": [
        "AudioData = AudioDataSet()"
      ],
      "metadata": {
        "id": "Q0CpYr0mr9Jx"
      },
      "execution_count": 16,
      "outputs": []
    },
    {
      "cell_type": "code",
      "source": [
        "len(AudioData)"
      ],
      "metadata": {
        "colab": {
          "base_uri": "https://localhost:8080/"
        },
        "id": "yDzwtz8XsAn9",
        "outputId": "a6c16705-ec06-496f-8f28-298e13d29844"
      },
      "execution_count": 17,
      "outputs": [
        {
          "output_type": "execute_result",
          "data": {
            "text/plain": [
              "3000"
            ]
          },
          "metadata": {},
          "execution_count": 17
        }
      ]
    },
    {
      "cell_type": "code",
      "source": [
        "AudioData[0]"
      ],
      "metadata": {
        "colab": {
          "base_uri": "https://localhost:8080/"
        },
        "id": "NSDOfJkEsFC_",
        "outputId": "103534bf-7f1d-4ade-8b8f-0616dfce8f2b"
      },
      "execution_count": 18,
      "outputs": [
        {
          "output_type": "execute_result",
          "data": {
            "text/plain": [
              "PosixPath('free-spoken-digit-dataset/recordings/8_nicolas_25.wav')"
            ]
          },
          "metadata": {},
          "execution_count": 18
        }
      ]
    },
    {
      "cell_type": "code",
      "source": [
        "AudioData[:10]"
      ],
      "metadata": {
        "colab": {
          "base_uri": "https://localhost:8080/"
        },
        "id": "mMHGRcSKsTtu",
        "outputId": "b7841007-6fe6-4015-e806-abc5066dbfae"
      },
      "execution_count": 19,
      "outputs": [
        {
          "output_type": "execute_result",
          "data": {
            "text/plain": [
              "[PosixPath('free-spoken-digit-dataset/recordings/8_nicolas_25.wav'),\n",
              " PosixPath('free-spoken-digit-dataset/recordings/3_george_18.wav'),\n",
              " PosixPath('free-spoken-digit-dataset/recordings/1_lucas_29.wav'),\n",
              " PosixPath('free-spoken-digit-dataset/recordings/4_jackson_16.wav'),\n",
              " PosixPath('free-spoken-digit-dataset/recordings/5_george_12.wav'),\n",
              " PosixPath('free-spoken-digit-dataset/recordings/2_jackson_29.wav'),\n",
              " PosixPath('free-spoken-digit-dataset/recordings/1_theo_15.wav'),\n",
              " PosixPath('free-spoken-digit-dataset/recordings/2_jackson_2.wav'),\n",
              " PosixPath('free-spoken-digit-dataset/recordings/5_theo_41.wav'),\n",
              " PosixPath('free-spoken-digit-dataset/recordings/1_george_45.wav')]"
            ]
          },
          "metadata": {},
          "execution_count": 19
        }
      ]
    },
    {
      "cell_type": "code",
      "source": [
        "batch_size = 64\n",
        "train_loader = DataLoader(AudioData,batch_size=batch_size,shuffle=False)"
      ],
      "metadata": {
        "id": "V_NEsUEZsWyy"
      },
      "execution_count": 22,
      "outputs": []
    },
    {
      "cell_type": "code",
      "source": [
        "??DataLoader"
      ],
      "metadata": {
        "id": "W6puZTk1tkmI"
      },
      "execution_count": 24,
      "outputs": []
    },
    {
      "cell_type": "code",
      "source": [
        "n_epoch = 50\n",
        "for epoch in range(n_epoch) :\n",
        "  for batch in train_loader :\n",
        "    pass"
      ],
      "metadata": {
        "colab": {
          "base_uri": "https://localhost:8080/",
          "height": 364
        },
        "id": "6OWMT6pssc1q",
        "outputId": "e2382e6f-03a9-48b6-cb22-949ded1c2eff"
      },
      "execution_count": 23,
      "outputs": [
        {
          "output_type": "error",
          "ename": "TypeError",
          "evalue": "ignored",
          "traceback": [
            "\u001b[0;31m---------------------------------------------------------------------------\u001b[0m",
            "\u001b[0;31mTypeError\u001b[0m                                 Traceback (most recent call last)",
            "\u001b[0;32m<ipython-input-23-d6b7d89ccfa7>\u001b[0m in \u001b[0;36m<module>\u001b[0;34m\u001b[0m\n\u001b[1;32m      1\u001b[0m \u001b[0mn_epoch\u001b[0m \u001b[0;34m=\u001b[0m \u001b[0;36m50\u001b[0m\u001b[0;34m\u001b[0m\u001b[0;34m\u001b[0m\u001b[0m\n\u001b[1;32m      2\u001b[0m \u001b[0;32mfor\u001b[0m \u001b[0mepoch\u001b[0m \u001b[0;32min\u001b[0m \u001b[0mrange\u001b[0m\u001b[0;34m(\u001b[0m\u001b[0mn_epoch\u001b[0m\u001b[0;34m)\u001b[0m \u001b[0;34m:\u001b[0m\u001b[0;34m\u001b[0m\u001b[0;34m\u001b[0m\u001b[0m\n\u001b[0;32m----> 3\u001b[0;31m   \u001b[0;32mfor\u001b[0m \u001b[0mbatch\u001b[0m \u001b[0;32min\u001b[0m \u001b[0mtrain_loader\u001b[0m \u001b[0;34m:\u001b[0m\u001b[0;34m\u001b[0m\u001b[0;34m\u001b[0m\u001b[0m\n\u001b[0m\u001b[1;32m      4\u001b[0m     \u001b[0;32mpass\u001b[0m\u001b[0;34m\u001b[0m\u001b[0;34m\u001b[0m\u001b[0m\n",
            "\u001b[0;32m/usr/local/lib/python3.8/dist-packages/torch/utils/data/dataloader.py\u001b[0m in \u001b[0;36m__next__\u001b[0;34m(self)\u001b[0m\n\u001b[1;32m    626\u001b[0m                 \u001b[0;31m# TODO(https://github.com/pytorch/pytorch/issues/76750)\u001b[0m\u001b[0;34m\u001b[0m\u001b[0;34m\u001b[0m\u001b[0;34m\u001b[0m\u001b[0m\n\u001b[1;32m    627\u001b[0m                 \u001b[0mself\u001b[0m\u001b[0;34m.\u001b[0m\u001b[0m_reset\u001b[0m\u001b[0;34m(\u001b[0m\u001b[0;34m)\u001b[0m  \u001b[0;31m# type: ignore[call-arg]\u001b[0m\u001b[0;34m\u001b[0m\u001b[0;34m\u001b[0m\u001b[0m\n\u001b[0;32m--> 628\u001b[0;31m             \u001b[0mdata\u001b[0m \u001b[0;34m=\u001b[0m \u001b[0mself\u001b[0m\u001b[0;34m.\u001b[0m\u001b[0m_next_data\u001b[0m\u001b[0;34m(\u001b[0m\u001b[0;34m)\u001b[0m\u001b[0;34m\u001b[0m\u001b[0;34m\u001b[0m\u001b[0m\n\u001b[0m\u001b[1;32m    629\u001b[0m             \u001b[0mself\u001b[0m\u001b[0;34m.\u001b[0m\u001b[0m_num_yielded\u001b[0m \u001b[0;34m+=\u001b[0m \u001b[0;36m1\u001b[0m\u001b[0;34m\u001b[0m\u001b[0;34m\u001b[0m\u001b[0m\n\u001b[1;32m    630\u001b[0m             \u001b[0;32mif\u001b[0m \u001b[0mself\u001b[0m\u001b[0;34m.\u001b[0m\u001b[0m_dataset_kind\u001b[0m \u001b[0;34m==\u001b[0m \u001b[0m_DatasetKind\u001b[0m\u001b[0;34m.\u001b[0m\u001b[0mIterable\u001b[0m \u001b[0;32mand\u001b[0m\u001b[0;31m \u001b[0m\u001b[0;31m\\\u001b[0m\u001b[0;34m\u001b[0m\u001b[0;34m\u001b[0m\u001b[0m\n",
            "\u001b[0;32m/usr/local/lib/python3.8/dist-packages/torch/utils/data/dataloader.py\u001b[0m in \u001b[0;36m_next_data\u001b[0;34m(self)\u001b[0m\n\u001b[1;32m    669\u001b[0m     \u001b[0;32mdef\u001b[0m \u001b[0m_next_data\u001b[0m\u001b[0;34m(\u001b[0m\u001b[0mself\u001b[0m\u001b[0;34m)\u001b[0m\u001b[0;34m:\u001b[0m\u001b[0;34m\u001b[0m\u001b[0;34m\u001b[0m\u001b[0m\n\u001b[1;32m    670\u001b[0m         \u001b[0mindex\u001b[0m \u001b[0;34m=\u001b[0m \u001b[0mself\u001b[0m\u001b[0;34m.\u001b[0m\u001b[0m_next_index\u001b[0m\u001b[0;34m(\u001b[0m\u001b[0;34m)\u001b[0m  \u001b[0;31m# may raise StopIteration\u001b[0m\u001b[0;34m\u001b[0m\u001b[0;34m\u001b[0m\u001b[0m\n\u001b[0;32m--> 671\u001b[0;31m         \u001b[0mdata\u001b[0m \u001b[0;34m=\u001b[0m \u001b[0mself\u001b[0m\u001b[0;34m.\u001b[0m\u001b[0m_dataset_fetcher\u001b[0m\u001b[0;34m.\u001b[0m\u001b[0mfetch\u001b[0m\u001b[0;34m(\u001b[0m\u001b[0mindex\u001b[0m\u001b[0;34m)\u001b[0m  \u001b[0;31m# may raise StopIteration\u001b[0m\u001b[0;34m\u001b[0m\u001b[0;34m\u001b[0m\u001b[0m\n\u001b[0m\u001b[1;32m    672\u001b[0m         \u001b[0;32mif\u001b[0m \u001b[0mself\u001b[0m\u001b[0;34m.\u001b[0m\u001b[0m_pin_memory\u001b[0m\u001b[0;34m:\u001b[0m\u001b[0;34m\u001b[0m\u001b[0;34m\u001b[0m\u001b[0m\n\u001b[1;32m    673\u001b[0m             \u001b[0mdata\u001b[0m \u001b[0;34m=\u001b[0m \u001b[0m_utils\u001b[0m\u001b[0;34m.\u001b[0m\u001b[0mpin_memory\u001b[0m\u001b[0;34m.\u001b[0m\u001b[0mpin_memory\u001b[0m\u001b[0;34m(\u001b[0m\u001b[0mdata\u001b[0m\u001b[0;34m,\u001b[0m \u001b[0mself\u001b[0m\u001b[0;34m.\u001b[0m\u001b[0m_pin_memory_device\u001b[0m\u001b[0;34m)\u001b[0m\u001b[0;34m\u001b[0m\u001b[0;34m\u001b[0m\u001b[0m\n",
            "\u001b[0;32m/usr/local/lib/python3.8/dist-packages/torch/utils/data/_utils/fetch.py\u001b[0m in \u001b[0;36mfetch\u001b[0;34m(self, possibly_batched_index)\u001b[0m\n\u001b[1;32m     59\u001b[0m         \u001b[0;32melse\u001b[0m\u001b[0;34m:\u001b[0m\u001b[0;34m\u001b[0m\u001b[0;34m\u001b[0m\u001b[0m\n\u001b[1;32m     60\u001b[0m             \u001b[0mdata\u001b[0m \u001b[0;34m=\u001b[0m \u001b[0mself\u001b[0m\u001b[0;34m.\u001b[0m\u001b[0mdataset\u001b[0m\u001b[0;34m[\u001b[0m\u001b[0mpossibly_batched_index\u001b[0m\u001b[0;34m]\u001b[0m\u001b[0;34m\u001b[0m\u001b[0;34m\u001b[0m\u001b[0m\n\u001b[0;32m---> 61\u001b[0;31m         \u001b[0;32mreturn\u001b[0m \u001b[0mself\u001b[0m\u001b[0;34m.\u001b[0m\u001b[0mcollate_fn\u001b[0m\u001b[0;34m(\u001b[0m\u001b[0mdata\u001b[0m\u001b[0;34m)\u001b[0m\u001b[0;34m\u001b[0m\u001b[0;34m\u001b[0m\u001b[0m\n\u001b[0m",
            "\u001b[0;32m/usr/local/lib/python3.8/dist-packages/torch/utils/data/_utils/collate.py\u001b[0m in \u001b[0;36mdefault_collate\u001b[0;34m(batch)\u001b[0m\n\u001b[1;32m    263\u001b[0m             \u001b[0;34m>>\u001b[0m\u001b[0;34m>\u001b[0m \u001b[0mdefault_collate\u001b[0m\u001b[0;34m(\u001b[0m\u001b[0mbatch\u001b[0m\u001b[0;34m)\u001b[0m  \u001b[0;31m# Handle `CustomType` automatically\u001b[0m\u001b[0;34m\u001b[0m\u001b[0;34m\u001b[0m\u001b[0m\n\u001b[1;32m    264\u001b[0m     \"\"\"\n\u001b[0;32m--> 265\u001b[0;31m     \u001b[0;32mreturn\u001b[0m \u001b[0mcollate\u001b[0m\u001b[0;34m(\u001b[0m\u001b[0mbatch\u001b[0m\u001b[0;34m,\u001b[0m \u001b[0mcollate_fn_map\u001b[0m\u001b[0;34m=\u001b[0m\u001b[0mdefault_collate_fn_map\u001b[0m\u001b[0;34m)\u001b[0m\u001b[0;34m\u001b[0m\u001b[0;34m\u001b[0m\u001b[0m\n\u001b[0m",
            "\u001b[0;32m/usr/local/lib/python3.8/dist-packages/torch/utils/data/_utils/collate.py\u001b[0m in \u001b[0;36mcollate\u001b[0;34m(batch, collate_fn_map)\u001b[0m\n\u001b[1;32m    149\u001b[0m                 \u001b[0;32mreturn\u001b[0m \u001b[0;34m[\u001b[0m\u001b[0mcollate\u001b[0m\u001b[0;34m(\u001b[0m\u001b[0msamples\u001b[0m\u001b[0;34m,\u001b[0m \u001b[0mcollate_fn_map\u001b[0m\u001b[0;34m=\u001b[0m\u001b[0mcollate_fn_map\u001b[0m\u001b[0;34m)\u001b[0m \u001b[0;32mfor\u001b[0m \u001b[0msamples\u001b[0m \u001b[0;32min\u001b[0m \u001b[0mtransposed\u001b[0m\u001b[0;34m]\u001b[0m\u001b[0;34m\u001b[0m\u001b[0;34m\u001b[0m\u001b[0m\n\u001b[1;32m    150\u001b[0m \u001b[0;34m\u001b[0m\u001b[0m\n\u001b[0;32m--> 151\u001b[0;31m     \u001b[0;32mraise\u001b[0m \u001b[0mTypeError\u001b[0m\u001b[0;34m(\u001b[0m\u001b[0mdefault_collate_err_msg_format\u001b[0m\u001b[0;34m.\u001b[0m\u001b[0mformat\u001b[0m\u001b[0;34m(\u001b[0m\u001b[0melem_type\u001b[0m\u001b[0;34m)\u001b[0m\u001b[0;34m)\u001b[0m\u001b[0;34m\u001b[0m\u001b[0;34m\u001b[0m\u001b[0m\n\u001b[0m\u001b[1;32m    152\u001b[0m \u001b[0;34m\u001b[0m\u001b[0m\n\u001b[1;32m    153\u001b[0m \u001b[0;34m\u001b[0m\u001b[0m\n",
            "\u001b[0;31mTypeError\u001b[0m: default_collate: batch must contain tensors, numpy arrays, numbers, dicts or lists; found <class 'pathlib.PosixPath'>"
          ]
        }
      ]
    },
    {
      "cell_type": "code",
      "source": [
        "class AudioDataSet(Dataset) : \n",
        "  def __init__(self):\n",
        "    self.filelist = list(Path(\"./free-spoken-digit-dataset/recordings/\").glob(\"*.wav\"))\n",
        "    self.sr = 8000\n",
        "\n",
        "  def __len__(self):    \n",
        "    return len(self.filelist)\n",
        "\n",
        "  def __getitem__(self,idx):\n",
        "    audio_path = self.filelist[idx] \n",
        "    y,sr = torchaudio.load(audio_path)\n",
        "    label = int(audio_path.stem.split(\"_\")[0])\n",
        "    return y ,label  "
      ],
      "metadata": {
        "id": "8B-4jcfNtgk7"
      },
      "execution_count": 29,
      "outputs": []
    },
    {
      "cell_type": "code",
      "source": [
        "train = AudioDataSet()\n",
        "train[0]"
      ],
      "metadata": {
        "colab": {
          "base_uri": "https://localhost:8080/"
        },
        "id": "isoTX8S7uFiV",
        "outputId": "58245e20-3cbe-4595-919e-40d9858842f8"
      },
      "execution_count": 30,
      "outputs": [
        {
          "output_type": "execute_result",
          "data": {
            "text/plain": [
              "(tensor([[-0.0078, -0.0156, -0.0078,  ..., -0.0078, -0.0078, -0.0078]]), 8)"
            ]
          },
          "metadata": {},
          "execution_count": 30
        }
      ]
    },
    {
      "cell_type": "code",
      "source": [
        "n_epoch = 50\n",
        "train_loader = DataLoader(train)\n",
        "for epoch in range(n_epoch) :\n",
        "  for batch in train_loader :\n",
        "    pass"
      ],
      "metadata": {
        "colab": {
          "base_uri": "https://localhost:8080/",
          "height": 340
        },
        "id": "y2LPGEIyuKNx",
        "outputId": "b05a6eb4-fbb2-46dc-fdd1-24e43f4466fc"
      },
      "execution_count": 32,
      "outputs": [
        {
          "output_type": "error",
          "ename": "KeyboardInterrupt",
          "evalue": "ignored",
          "traceback": [
            "\u001b[0;31m---------------------------------------------------------------------------\u001b[0m",
            "\u001b[0;31mKeyboardInterrupt\u001b[0m                         Traceback (most recent call last)",
            "\u001b[0;32m<ipython-input-32-cbbfbf9eb1c1>\u001b[0m in \u001b[0;36m<module>\u001b[0;34m\u001b[0m\n\u001b[1;32m      2\u001b[0m \u001b[0mtrain_loader\u001b[0m \u001b[0;34m=\u001b[0m \u001b[0mDataLoader\u001b[0m\u001b[0;34m(\u001b[0m\u001b[0mtrain\u001b[0m\u001b[0;34m)\u001b[0m\u001b[0;34m\u001b[0m\u001b[0;34m\u001b[0m\u001b[0m\n\u001b[1;32m      3\u001b[0m \u001b[0;32mfor\u001b[0m \u001b[0mepoch\u001b[0m \u001b[0;32min\u001b[0m \u001b[0mrange\u001b[0m\u001b[0;34m(\u001b[0m\u001b[0mn_epoch\u001b[0m\u001b[0;34m)\u001b[0m \u001b[0;34m:\u001b[0m\u001b[0;34m\u001b[0m\u001b[0;34m\u001b[0m\u001b[0m\n\u001b[0;32m----> 4\u001b[0;31m   \u001b[0;32mfor\u001b[0m \u001b[0mbatch\u001b[0m \u001b[0;32min\u001b[0m \u001b[0mtrain_loader\u001b[0m \u001b[0;34m:\u001b[0m\u001b[0;34m\u001b[0m\u001b[0;34m\u001b[0m\u001b[0m\n\u001b[0m\u001b[1;32m      5\u001b[0m     \u001b[0;32mpass\u001b[0m\u001b[0;34m\u001b[0m\u001b[0;34m\u001b[0m\u001b[0m\n",
            "\u001b[0;32m/usr/local/lib/python3.8/dist-packages/torch/utils/data/dataloader.py\u001b[0m in \u001b[0;36m__next__\u001b[0;34m(self)\u001b[0m\n\u001b[1;32m    639\u001b[0m                                  \"https://pytorch.org/docs/stable/data.html#torch.utils.data.IterableDataset for examples.\")\n\u001b[1;32m    640\u001b[0m                 \u001b[0mwarnings\u001b[0m\u001b[0;34m.\u001b[0m\u001b[0mwarn\u001b[0m\u001b[0;34m(\u001b[0m\u001b[0mwarn_msg\u001b[0m\u001b[0;34m)\u001b[0m\u001b[0;34m\u001b[0m\u001b[0;34m\u001b[0m\u001b[0m\n\u001b[0;32m--> 641\u001b[0;31m             \u001b[0;32mreturn\u001b[0m \u001b[0mdata\u001b[0m\u001b[0;34m\u001b[0m\u001b[0;34m\u001b[0m\u001b[0m\n\u001b[0m\u001b[1;32m    642\u001b[0m \u001b[0;34m\u001b[0m\u001b[0m\n\u001b[1;32m    643\u001b[0m     \u001b[0;32mdef\u001b[0m \u001b[0m__len__\u001b[0m\u001b[0;34m(\u001b[0m\u001b[0mself\u001b[0m\u001b[0;34m)\u001b[0m \u001b[0;34m->\u001b[0m \u001b[0mint\u001b[0m\u001b[0;34m:\u001b[0m\u001b[0;34m\u001b[0m\u001b[0;34m\u001b[0m\u001b[0m\n",
            "\u001b[0;31mKeyboardInterrupt\u001b[0m: "
          ]
        }
      ]
    },
    {
      "cell_type": "markdown",
      "source": [
        "split train/valid/test"
      ],
      "metadata": {
        "id": "CgwSJFwXu8Ab"
      }
    },
    {
      "cell_type": "code",
      "source": [
        "class AudioDataSet(Dataset) : \n",
        "  def __init__(self,train=True):\n",
        "    self.filelist = list(Path(\"./free-spoken-digit-dataset/recordings/\").glob(\"*.wav\"))\n",
        "    self.sr = 8000\n",
        "    self.train_list,self.test_list = self._split_data()\n",
        "    #print(len(self.train_list),len(self.test_list))\n",
        "    if train :\n",
        "      self.audio_list = self.train_list\n",
        "    else :\n",
        "      self.audio_list = self.test_list\n",
        "\n",
        "  def _split_data(self) : \n",
        "    test_postfix = [0,1,2,3,4]\n",
        "    train_list =[]\n",
        "    test_list =[]\n",
        "\n",
        "    for path in self.filelist :\n",
        "      post_fix = int(path.stem.split(\"_\")[-1])      \n",
        "      if post_fix in test_postfix : \n",
        "        test_list.append(path)\n",
        "      else : \n",
        "        train_list.append(path)\n",
        "\n",
        "    return train_list,test_list\n",
        "\n",
        "  def __len__(self):    \n",
        "    return len(self.audio_list)\n",
        "\n",
        "  def __getitem__(self,idx):\n",
        "    audio_path = self.audio_list[idx] \n",
        "    y,sr = torchaudio.load(audio_path)\n",
        "    padded  = torch.zeros(20000)\n",
        "    padded[:len(y[0])] = y[0]\n",
        "\n",
        "    idx = int(audio_path.stem.split(\"_\")[0])\n",
        "    label = torch.zeros(10)\n",
        "    label[idx] = 1\n",
        "    return padded[:8000] ,label  "
      ],
      "metadata": {
        "id": "x9ij9-U5us3H"
      },
      "execution_count": 112,
      "outputs": []
    },
    {
      "cell_type": "code",
      "source": [
        "train = AudioDataSet(train=True)\n",
        "test = AudioDataSet(train=False)"
      ],
      "metadata": {
        "id": "yEXNqWlKwrYj"
      },
      "execution_count": 113,
      "outputs": []
    },
    {
      "cell_type": "code",
      "source": [
        "train[0]"
      ],
      "metadata": {
        "colab": {
          "base_uri": "https://localhost:8080/"
        },
        "id": "6ZHpYUNE3kyd",
        "outputId": "ccc8694e-8c64-4aac-853d-9f7e7e534197"
      },
      "execution_count": 115,
      "outputs": [
        {
          "output_type": "execute_result",
          "data": {
            "text/plain": [
              "(tensor([-0.0078, -0.0156, -0.0078,  ...,  0.0000,  0.0000,  0.0000]),\n",
              " tensor([0., 0., 0., 0., 0., 0., 0., 0., 1., 0.]))"
            ]
          },
          "metadata": {},
          "execution_count": 115
        }
      ]
    },
    {
      "cell_type": "markdown",
      "source": [],
      "metadata": {
        "id": "zwLn_a2gyZRq"
      }
    },
    {
      "cell_type": "code",
      "source": [
        "import torch.nn as nn"
      ],
      "metadata": {
        "id": "eVaYgb3Zx87f"
      },
      "execution_count": 90,
      "outputs": []
    },
    {
      "cell_type": "code",
      "source": [
        "from math import ceil \n",
        "\n",
        "class MyModel(nn.Module):\n",
        "  def __init__(self ,hidden_dim = 1024):\n",
        "    super().__init__()\n",
        "    self.n_mels = 64\n",
        "    self.n_fft = 256\n",
        "    self.hop_length=self.n_fft//2\n",
        "    self.sr = 8000\n",
        "    self.n_frames = ceil(8000/self.hop_length)  \n",
        "     #input size = n_mels*n_frames, 64*79\n",
        "    self.n_classes = 10   # digit 0-9 \n",
        "    self.hidden_dim = hidden_dim\n",
        "    self.mel_converter = torchaudio.transforms.MelSpectrogram(sample_rate=self.sr,\n",
        "                                                              n_fft=self.n_fft,\n",
        "                                                              hop_length=self.hop_length,\n",
        "                                                              n_mels=self.n_mels)\n",
        "    self.db_converter = torchaudio.transforms.AmplitudeToDB()\n",
        "\n",
        "    self.nn_layer = nn.Sequential(\n",
        "                          nn.Linear(self.n_mels*self.n_frames,self.hidden_dim),\n",
        "                          nn.ReLU(),\n",
        "                          nn.Linear(self.hidden_dim,self.hidden_dim),                                   \n",
        "                          nn.ReLU(),\n",
        "                          nn.Linear(self.hidden_dim,self.hidden_dim),                                   \n",
        "                          nn.ReLU(),\n",
        "                          nn.Linear(self.hidden_dim,self.hidden_dim),                                   \n",
        "                          nn.ReLU(),\n",
        "                          nn.Linear(self.hidden_dim,self.n_classes)\n",
        "    )\n",
        "\n",
        "  def forward(self,x):\n",
        "    #print(x.shape)\n",
        "    spec = self.mel_converter(x)\n",
        "    #print(spec.shape)\n",
        "    if spec.dim() >2:\n",
        "      spec = spec.reshape(spec.shape[0],-1)\n",
        "    else :\n",
        "      spec = spec.flatten()\n",
        "    #print(spec.shape)\n",
        "    spec = self.db_converter(spec)\n",
        "    #print(spec.shape)\n",
        "    #end of feature extraction\n",
        "    #\n",
        "    #start of model\n",
        "    x = self.nn_layer(spec)\n",
        "    \n",
        "    return x\n",
        "\n",
        "\n",
        "      "
      ],
      "metadata": {
        "id": "dwAw8WtiwxMI"
      },
      "execution_count": 116,
      "outputs": []
    },
    {
      "cell_type": "markdown",
      "source": [],
      "metadata": {
        "id": "jOn46noxyY5b"
      }
    },
    {
      "cell_type": "code",
      "source": [
        "torch.zeros((129,30)).flatten().shape[0] == 129*30"
      ],
      "metadata": {
        "colab": {
          "base_uri": "https://localhost:8080/"
        },
        "id": "3qdiKmxXwzGq",
        "outputId": "c9b078f6-ad8d-4d6a-f90e-c49e2b1bfc6d"
      },
      "execution_count": 117,
      "outputs": [
        {
          "output_type": "execute_result",
          "data": {
            "text/plain": [
              "True"
            ]
          },
          "metadata": {},
          "execution_count": 117
        }
      ]
    },
    {
      "cell_type": "code",
      "source": [
        "model = MyModel()"
      ],
      "metadata": {
        "id": "AO9knRtvxTK1"
      },
      "execution_count": 118,
      "outputs": []
    },
    {
      "cell_type": "code",
      "source": [
        "sample , label = train[0]\n",
        "print(sample)\n",
        "print(label)"
      ],
      "metadata": {
        "colab": {
          "base_uri": "https://localhost:8080/"
        },
        "id": "riOsbHPV4cAR",
        "outputId": "4e36d405-19f7-45d1-b894-1d7158c72aef"
      },
      "execution_count": 119,
      "outputs": [
        {
          "output_type": "stream",
          "name": "stdout",
          "text": [
            "tensor([-0.0078, -0.0156, -0.0078,  ...,  0.0000,  0.0000,  0.0000])\n",
            "tensor([0., 0., 0., 0., 0., 0., 0., 0., 1., 0.])\n"
          ]
        }
      ]
    },
    {
      "cell_type": "code",
      "source": [
        "out = model(sample)\n",
        "out"
      ],
      "metadata": {
        "colab": {
          "base_uri": "https://localhost:8080/"
        },
        "id": "zjVG0fvX4f_N",
        "outputId": "5ece30ba-bba3-4285-bdea-dd999e13a442"
      },
      "execution_count": 120,
      "outputs": [
        {
          "output_type": "execute_result",
          "data": {
            "text/plain": [
              "tensor([ 1.6671,  0.5320,  1.4331, -0.5343, -0.2290,  0.5501,  1.1282,  0.8079,\n",
              "        -1.7330, -0.6922], grad_fn=<AddBackward0>)"
            ]
          },
          "metadata": {},
          "execution_count": 120
        }
      ]
    },
    {
      "cell_type": "code",
      "source": [
        "torch.softmax(out,dim=-1).sum()"
      ],
      "metadata": {
        "colab": {
          "base_uri": "https://localhost:8080/"
        },
        "id": "0LsSpneA4oB4",
        "outputId": "72f14686-1722-434d-b4ef-96b1be167a38"
      },
      "execution_count": 121,
      "outputs": [
        {
          "output_type": "execute_result",
          "data": {
            "text/plain": [
              "tensor(1.0000, grad_fn=<SumBackward0>)"
            ]
          },
          "metadata": {},
          "execution_count": 121
        }
      ]
    },
    {
      "cell_type": "markdown",
      "source": [
        "# Train "
      ],
      "metadata": {
        "id": "X8-CkWoU5UUp"
      }
    },
    {
      "cell_type": "code",
      "source": [
        "from tqdm.auto import tqdm"
      ],
      "metadata": {
        "id": "r2UlYQJB45MZ"
      },
      "execution_count": 122,
      "outputs": []
    },
    {
      "cell_type": "code",
      "source": [
        "model = MyModel()\n",
        "n_epoch = 1\n",
        "loss_fn = torch.nn.CrossEntropyLoss()\n",
        "opt = torch.optim.Adam(model.parameters(),lr=0.001)\n",
        "bs = 64\n",
        "train_loader = DataLoader(train,shuffle=True,batch_size=64)\n",
        "test_loader = DataLoader(test,shuffle=False,batch_size=64)\n",
        "\n",
        "losses =[]\n",
        "model.to('cuda')\n",
        "for epoch in tqdm(range(n_epoch)) :\n",
        "  for batch in train_loader:\n",
        "    samples , labels = batch\n",
        "    samples = samples.to('cuda')\n",
        "    labels = labels.to('cuda')\n",
        "\n",
        "    pred = model(samples)    # shape : batch , 10\n",
        "    loss = loss_fn(pred,labels)\n",
        "    loss.backward()\n",
        "    opt.step()\n",
        "    opt.zero_grad()\n",
        "\n",
        "    losses.append(loss.item())\n",
        "  \n",
        "\n"
      ],
      "metadata": {
        "colab": {
          "base_uri": "https://localhost:8080/",
          "height": 49,
          "referenced_widgets": [
            "612c9a0e783b48b3bda7d3e85f1dbca6",
            "0d1815c88c484133a438bf5998fadb8d",
            "6f770529b72b46329ec06c98fa007295",
            "9e5538a3cd5c4052b3b6449040efa313",
            "65f96409d5364f8ea620605f38330c14",
            "179ac84f4068433d93562da022740387",
            "7355d43e783742009c1ce943c3782371",
            "e2411d4143ba4a9290ef3c9e7268a97e",
            "cd1bd16b3c9046fc97ef2b27eadebac7",
            "015209935d7a49bc930c11c48e122a51",
            "b3f5aa202ca14fd5b378fd3cea508b82"
          ]
        },
        "id": "PAAzBEiG5Y8G",
        "outputId": "bab319b1-6454-474a-fc8f-f093eb6df90b"
      },
      "execution_count": 149,
      "outputs": [
        {
          "output_type": "display_data",
          "data": {
            "text/plain": [
              "  0%|          | 0/1 [00:00<?, ?it/s]"
            ],
            "application/vnd.jupyter.widget-view+json": {
              "version_major": 2,
              "version_minor": 0,
              "model_id": "612c9a0e783b48b3bda7d3e85f1dbca6"
            }
          },
          "metadata": {}
        }
      ]
    },
    {
      "cell_type": "code",
      "source": [
        "import matplotlib.pyplot as plt\n",
        "plt.plot(losses)"
      ],
      "metadata": {
        "colab": {
          "base_uri": "https://localhost:8080/",
          "height": 282
        },
        "id": "X8i4zsqw9CtT",
        "outputId": "15b9c02d-ddbc-47ff-b89f-3d1a4dbad17e"
      },
      "execution_count": 150,
      "outputs": [
        {
          "output_type": "execute_result",
          "data": {
            "text/plain": [
              "[<matplotlib.lines.Line2D at 0x7f70e7049fa0>]"
            ]
          },
          "metadata": {},
          "execution_count": 150
        },
        {
          "output_type": "display_data",
          "data": {
            "text/plain": [
              "<Figure size 432x288 with 1 Axes>"
            ],
            "image/png": "[encoded data removed]"
          },
          "metadata": {
            "needs_background": "light"
          }
        }
      ]
    },
    {
      "cell_type": "code",
      "source": [
        "samples, labels = next(iter(train_loader))\n",
        "print(samples.shape)"
      ],
      "metadata": {
        "colab": {
          "base_uri": "https://localhost:8080/"
        },
        "id": "nE4Gdqdn54ZL",
        "outputId": "19fec2df-8eec-49b4-ff46-b3ed35ec6219"
      },
      "execution_count": 151,
      "outputs": [
        {
          "output_type": "stream",
          "name": "stdout",
          "text": [
            "torch.Size([64, 8000])\n"
          ]
        }
      ]
    },
    {
      "cell_type": "code",
      "source": [
        "test[0].to"
      ],
      "metadata": {
        "colab": {
          "base_uri": "https://localhost:8080/"
        },
        "id": "r_jCNvIf660y",
        "outputId": "6f5a0bb8-0ae1-454c-d424-e73f49fdbd01"
      },
      "execution_count": 131,
      "outputs": [
        {
          "output_type": "execute_result",
          "data": {
            "text/plain": [
              "(tensor([-0.0243,  0.0130,  0.0057,  ...,  0.0000,  0.0000,  0.0000]),\n",
              " tensor([0., 0., 1., 0., 0., 0., 0., 0., 0., 0.]))"
            ]
          },
          "metadata": {},
          "execution_count": 131
        }
      ]
    },
    {
      "cell_type": "code",
      "source": [
        "model(test[0][0].to('cuda')).argmax()"
      ],
      "metadata": {
        "colab": {
          "base_uri": "https://localhost:8080/"
        },
        "id": "XwBt7skH9X0x",
        "outputId": "62023f34-af5d-4d2e-8b32-a304efb62eb5"
      },
      "execution_count": 134,
      "outputs": [
        {
          "output_type": "execute_result",
          "data": {
            "text/plain": [
              "tensor(2, device='cuda:0')"
            ]
          },
          "metadata": {},
          "execution_count": 134
        }
      ]
    },
    {
      "cell_type": "code",
      "source": [
        "samples, labels = next(iter(test_loader))"
      ],
      "metadata": {
        "id": "1_chW_wY9Z7g"
      },
      "execution_count": 152,
      "outputs": []
    },
    {
      "cell_type": "code",
      "source": [
        "model(samples[:12].to('cuda')).argmax(dim=-1)"
      ],
      "metadata": {
        "colab": {
          "base_uri": "https://localhost:8080/"
        },
        "id": "lKTiAfww9rc0",
        "outputId": "db44d1fc-a9bf-4848-81ce-f084eb565fcc"
      },
      "execution_count": 153,
      "outputs": [
        {
          "output_type": "execute_result",
          "data": {
            "text/plain": [
              "tensor([7, 2, 7, 7, 0, 7, 7, 7, 7, 0, 2, 7], device='cuda:0')"
            ]
          },
          "metadata": {},
          "execution_count": 153
        }
      ]
    },
    {
      "cell_type": "code",
      "source": [
        "labels[:12].argmax(dim=-1)"
      ],
      "metadata": {
        "colab": {
          "base_uri": "https://localhost:8080/"
        },
        "id": "-Otw8n2b9x36",
        "outputId": "6e3618c8-a489-415b-e625-3b07024d6ea4"
      },
      "execution_count": 154,
      "outputs": [
        {
          "output_type": "execute_result",
          "data": {
            "text/plain": [
              "tensor([2, 4, 6, 2, 2, 4, 0, 6, 6, 7, 2, 7])"
            ]
          },
          "metadata": {},
          "execution_count": 154
        }
      ]
    },
    {
      "cell_type": "code",
      "source": [],
      "metadata": {
        "id": "MDv214wk9ymd"
      },
      "execution_count": null,
      "outputs": []
    }
  ]
}