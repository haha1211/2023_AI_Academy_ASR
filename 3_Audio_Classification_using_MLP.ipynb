{
  "nbformat": 4,
  "nbformat_minor": 0,
  "metadata": {
    "colab": {
      "provenance": [],
      "authorship_tag": "ABX9TyOiHWBnBOU5EBWwQk3YXYqn",
      "include_colab_link": true
    },
    "kernelspec": {
      "name": "python3",
      "display_name": "Python 3"
    },
    "language_info": {
      "name": "python"
    },
    "accelerator": "GPU",
    "gpuClass": "standard"
  },
  "cells": [
    {
      "cell_type": "markdown",
      "metadata": {
        "id": "view-in-github",
        "colab_type": "text"
      },
      "source": [
        "<a href=\"https://colab.research.google.com/github/june-oh/2023_AI_Academy_ASR/blob/main/3_Audio_Classification_using_MLP.ipynb\" target=\"_parent\"><img src=\"https://colab.research.google.com/assets/colab-badge.svg\" alt=\"Open In Colab\"/></a>"
      ]
    },
    {
      "cell_type": "markdown",
      "source": [
        "# 기초 MLP 모델 실습\n",
        "\n",
        "## Torch Dataset\n",
        "앞선 실습에서 사용했던 free-spoken-digit-dataset을 데이터로 사용\n",
        "\n",
        "MLP model을 이용하여 오디오를 분류하는 실습\n",
        "\n",
        "git cloning : \n",
        "```bash\n",
        "!git clone https://github.com/Jakobovski/free-spoken-digit-dataset\n",
        "```"
      ],
      "metadata": {
        "id": "rMMAjr50gIwz"
      }
    },
    {
      "cell_type": "code",
      "execution_count": 1,
      "metadata": {
        "colab": {
          "base_uri": "https://localhost:8080/"
        },
        "id": "K5dWxmIJfylF",
        "outputId": "93b3e7fd-08a5-40e5-9d4d-9268eafa0103"
      },
      "outputs": [
        {
          "output_type": "stream",
          "name": "stdout",
          "text": [
            "Cloning into 'free-spoken-digit-dataset'...\n",
            "remote: Enumerating objects: 4243, done.\u001b[K\n",
            "remote: Counting objects: 100% (31/31), done.\u001b[K\n",
            "remote: Compressing objects: 100% (23/23), done.\u001b[K\n",
            "remote: Total 4243 (delta 16), reused 8 (delta 8), pack-reused 4212\u001b[K\n",
            "Receiving objects: 100% (4243/4243), 30.38 MiB | 17.76 MiB/s, done.\n",
            "Resolving deltas: 100% (120/120), done.\n"
          ]
        }
      ],
      "source": [
        "!git clone https://github.com/Jakobovski/free-spoken-digit-dataset"
      ]
    },
    {
      "cell_type": "markdown",
      "source": [
        "import packages"
      ],
      "metadata": {
        "id": "Schq3L8gpXqv"
      }
    },
    {
      "cell_type": "code",
      "source": [
        "import torch        # model, datset, tensor\n",
        "import torchaudio   # feature extraction, load audio\n",
        "from pathlib import Path  #file path"
      ],
      "metadata": {
        "id": "4noU46t3ghD6"
      },
      "execution_count": 3,
      "outputs": []
    },
    {
      "cell_type": "markdown",
      "source": [
        "## PyTorch Daset Object 개념 \n",
        "`torch.utils.data.Dataset`의 subclass는 `__len__`과 `__getitem__`을 구현하기 위해 필요한 객체이다\n",
        "- `__len__` : 데이터셋의 아이템 수를 반환\n",
        "- `__getitem__`: 샘플과 레이블을 반환\n",
        "\n",
        "\n",
        "[그림]데이터를 직접적으로 가지고 있지 않지만 `__len__` 과 `__getitem__`을 통해 접근가능\n",
        "\n",
        "<img src=\"https://drek4537l1klr.cloudfront.net/stevens2/Figures/CH07_F02_Stevens2_GS.png\" width=600>"
      ],
      "metadata": {
        "id": "r-jlUCG1gn2k"
      }
    },
    {
      "cell_type": "code",
      "source": [
        "x = [0,1,2,3]\n",
        "print(type(x))\n",
        "print(dir(x))\n",
        "\n",
        "# __len__\n",
        "print(len(x))\n",
        "\n",
        "# __getitem__\n",
        "print(x[0])\n"
      ],
      "metadata": {
        "colab": {
          "base_uri": "https://localhost:8080/"
        },
        "id": "YpS3whNpp0qi",
        "outputId": "7e50a1dc-6044-4dcc-9be9-2c2dd7b3c2e6"
      },
      "execution_count": 8,
      "outputs": [
        {
          "output_type": "stream",
          "name": "stdout",
          "text": [
            "<class 'list'>\n",
            "['__add__', '__class__', '__contains__', '__delattr__', '__delitem__', '__dir__', '__doc__', '__eq__', '__format__', '__ge__', '__getattribute__', '__getitem__', '__gt__', '__hash__', '__iadd__', '__imul__', '__init__', '__init_subclass__', '__iter__', '__le__', '__len__', '__lt__', '__mul__', '__ne__', '__new__', '__reduce__', '__reduce_ex__', '__repr__', '__reversed__', '__rmul__', '__setattr__', '__setitem__', '__sizeof__', '__str__', '__subclasshook__', 'append', 'clear', 'copy', 'count', 'extend', 'index', 'insert', 'pop', 'remove', 'reverse', 'sort']\n",
            "4\n",
            "0\n"
          ]
        }
      ]
    },
    {
      "cell_type": "code",
      "source": [
        "from torch.utils.data import Dataset,DataLoader"
      ],
      "metadata": {
        "id": "qcyWK5QygoTG"
      },
      "execution_count": 9,
      "outputs": []
    },
    {
      "cell_type": "markdown",
      "source": [
        "## Dataset Calss 의 형식\n",
        "\n",
        "아래와 같이 3개의 method를 override하여 작성\n",
        "\n",
        "```python\n",
        "class MyCustomDataset(Dataset):\n",
        "    def __init__(self, ...):\n",
        "        # initialize Class\n",
        "        \n",
        "    def __getitem__(self, index):\n",
        "        # return samlpe(data) and label \n",
        "        return (img, label)\n",
        "\n",
        "    def __len__(self):\n",
        "      # of how many examples(images?) you have\n",
        "        return count \n",
        "```"
      ],
      "metadata": {
        "id": "JBZ2wHuqgsez"
      }
    },
    {
      "cell_type": "markdown",
      "source": [
        "AudioDataSet 선언될 때에는 전체 데이터셋의 파일 목록을 가져오고\n",
        "\n",
        "호출될때에는 샘플의 경로를 리턴"
      ],
      "metadata": {
        "id": "AQKiHkourbS_"
      }
    },
    {
      "cell_type": "code",
      "source": [
        "!ls"
      ],
      "metadata": {
        "colab": {
          "base_uri": "https://localhost:8080/"
        },
        "id": "kX-rNIDfro4u",
        "outputId": "fd474922-190a-4f07-e3f9-90f4103217ed"
      },
      "execution_count": 10,
      "outputs": [
        {
          "output_type": "stream",
          "name": "stdout",
          "text": [
            "free-spoken-digit-dataset  sample_data\n"
          ]
        }
      ]
    },
    {
      "cell_type": "code",
      "source": [
        "class AudioDataSet(Dataset) : \n",
        "  def __init__(self):\n",
        "    self.filelist = list(Path(\"./free-spoken-digit-dataset/recordings/\").glob(\"*.wav\"))\n",
        "\n",
        "  def __len__(self):    \n",
        "    return len(self.filelist)\n",
        "\n",
        "  def __getitem__(self,idx):\n",
        "    return self.filelist[idx]\n",
        "\n",
        "\n",
        "      "
      ],
      "metadata": {
        "id": "YDo-QZGGgrSg"
      },
      "execution_count": 11,
      "outputs": []
    },
    {
      "cell_type": "code",
      "source": [
        "AudioData = AudioDataSet()"
      ],
      "metadata": {
        "id": "Q0CpYr0mr9Jx"
      },
      "execution_count": 16,
      "outputs": []
    },
    {
      "cell_type": "code",
      "source": [
        "len(AudioData)"
      ],
      "metadata": {
        "colab": {
          "base_uri": "https://localhost:8080/"
        },
        "id": "yDzwtz8XsAn9",
        "outputId": "a6c16705-ec06-496f-8f28-298e13d29844"
      },
      "execution_count": 17,
      "outputs": [
        {
          "output_type": "execute_result",
          "data": {
            "text/plain": [
              "3000"
            ]
          },
          "metadata": {},
          "execution_count": 17
        }
      ]
    },
    {
      "cell_type": "code",
      "source": [
        "AudioData[0]"
      ],
      "metadata": {
        "colab": {
          "base_uri": "https://localhost:8080/"
        },
        "id": "NSDOfJkEsFC_",
        "outputId": "103534bf-7f1d-4ade-8b8f-0616dfce8f2b"
      },
      "execution_count": 18,
      "outputs": [
        {
          "output_type": "execute_result",
          "data": {
            "text/plain": [
              "PosixPath('free-spoken-digit-dataset/recordings/8_nicolas_25.wav')"
            ]
          },
          "metadata": {},
          "execution_count": 18
        }
      ]
    },
    {
      "cell_type": "code",
      "source": [
        "AudioData[:10]"
      ],
      "metadata": {
        "colab": {
          "base_uri": "https://localhost:8080/"
        },
        "id": "mMHGRcSKsTtu",
        "outputId": "b7841007-6fe6-4015-e806-abc5066dbfae"
      },
      "execution_count": 19,
      "outputs": [
        {
          "output_type": "execute_result",
          "data": {
            "text/plain": [
              "[PosixPath('free-spoken-digit-dataset/recordings/8_nicolas_25.wav'),\n",
              " PosixPath('free-spoken-digit-dataset/recordings/3_george_18.wav'),\n",
              " PosixPath('free-spoken-digit-dataset/recordings/1_lucas_29.wav'),\n",
              " PosixPath('free-spoken-digit-dataset/recordings/4_jackson_16.wav'),\n",
              " PosixPath('free-spoken-digit-dataset/recordings/5_george_12.wav'),\n",
              " PosixPath('free-spoken-digit-dataset/recordings/2_jackson_29.wav'),\n",
              " PosixPath('free-spoken-digit-dataset/recordings/1_theo_15.wav'),\n",
              " PosixPath('free-spoken-digit-dataset/recordings/2_jackson_2.wav'),\n",
              " PosixPath('free-spoken-digit-dataset/recordings/5_theo_41.wav'),\n",
              " PosixPath('free-spoken-digit-dataset/recordings/1_george_45.wav')]"
            ]
          },
          "metadata": {},
          "execution_count": 19
        }
      ]
    },
    {
      "cell_type": "code",
      "source": [
        "batch_size = 64\n",
        "train_loader = DataLoader(AudioData,batch_size=batch_size,shuffle=False)"
      ],
      "metadata": {
        "id": "V_NEsUEZsWyy"
      },
      "execution_count": 22,
      "outputs": []
    },
    {
      "cell_type": "code",
      "source": [
        "??DataLoader"
      ],
      "metadata": {
        "id": "W6puZTk1tkmI"
      },
      "execution_count": 24,
      "outputs": []
    },
    {
      "cell_type": "code",
      "source": [
        "n_epoch = 50\n",
        "for epoch in range(n_epoch) :\n",
        "  for batch in train_loader :\n",
        "    pass"
      ],
      "metadata": {
        "colab": {
          "base_uri": "https://localhost:8080/",
          "height": 364
        },
        "id": "6OWMT6pssc1q",
        "outputId": "e2382e6f-03a9-48b6-cb22-949ded1c2eff"
      },
      "execution_count": 23,
      "outputs": [
        {
          "output_type": "error",
          "ename": "TypeError",
          "evalue": "ignored",
          "traceback": [
            "\u001b[0;31m---------------------------------------------------------------------------\u001b[0m",
            "\u001b[0;31mTypeError\u001b[0m                                 Traceback (most recent call last)",
            "\u001b[0;32m<ipython-input-23-d6b7d89ccfa7>\u001b[0m in \u001b[0;36m<module>\u001b[0;34m\u001b[0m\n\u001b[1;32m      1\u001b[0m \u001b[0mn_epoch\u001b[0m \u001b[0;34m=\u001b[0m \u001b[0;36m50\u001b[0m\u001b[0;34m\u001b[0m\u001b[0;34m\u001b[0m\u001b[0m\n\u001b[1;32m      2\u001b[0m \u001b[0;32mfor\u001b[0m \u001b[0mepoch\u001b[0m \u001b[0;32min\u001b[0m \u001b[0mrange\u001b[0m\u001b[0;34m(\u001b[0m\u001b[0mn_epoch\u001b[0m\u001b[0;34m)\u001b[0m \u001b[0;34m:\u001b[0m\u001b[0;34m\u001b[0m\u001b[0;34m\u001b[0m\u001b[0m\n\u001b[0;32m----> 3\u001b[0;31m   \u001b[0;32mfor\u001b[0m \u001b[0mbatch\u001b[0m \u001b[0;32min\u001b[0m \u001b[0mtrain_loader\u001b[0m \u001b[0;34m:\u001b[0m\u001b[0;34m\u001b[0m\u001b[0;34m\u001b[0m\u001b[0m\n\u001b[0m\u001b[1;32m      4\u001b[0m     \u001b[0;32mpass\u001b[0m\u001b[0;34m\u001b[0m\u001b[0;34m\u001b[0m\u001b[0m\n",
            "\u001b[0;32m/usr/local/lib/python3.8/dist-packages/torch/utils/data/dataloader.py\u001b[0m in \u001b[0;36m__next__\u001b[0;34m(self)\u001b[0m\n\u001b[1;32m    626\u001b[0m                 \u001b[0;31m# TODO(https://github.com/pytorch/pytorch/issues/76750)\u001b[0m\u001b[0;34m\u001b[0m\u001b[0;34m\u001b[0m\u001b[0;34m\u001b[0m\u001b[0m\n\u001b[1;32m    627\u001b[0m                 \u001b[0mself\u001b[0m\u001b[0;34m.\u001b[0m\u001b[0m_reset\u001b[0m\u001b[0;34m(\u001b[0m\u001b[0;34m)\u001b[0m  \u001b[0;31m# type: ignore[call-arg]\u001b[0m\u001b[0;34m\u001b[0m\u001b[0;34m\u001b[0m\u001b[0m\n\u001b[0;32m--> 628\u001b[0;31m             \u001b[0mdata\u001b[0m \u001b[0;34m=\u001b[0m \u001b[0mself\u001b[0m\u001b[0;34m.\u001b[0m\u001b[0m_next_data\u001b[0m\u001b[0;34m(\u001b[0m\u001b[0;34m)\u001b[0m\u001b[0;34m\u001b[0m\u001b[0;34m\u001b[0m\u001b[0m\n\u001b[0m\u001b[1;32m    629\u001b[0m             \u001b[0mself\u001b[0m\u001b[0;34m.\u001b[0m\u001b[0m_num_yielded\u001b[0m \u001b[0;34m+=\u001b[0m \u001b[0;36m1\u001b[0m\u001b[0;34m\u001b[0m\u001b[0;34m\u001b[0m\u001b[0m\n\u001b[1;32m    630\u001b[0m             \u001b[0;32mif\u001b[0m \u001b[0mself\u001b[0m\u001b[0;34m.\u001b[0m\u001b[0m_dataset_kind\u001b[0m \u001b[0;34m==\u001b[0m \u001b[0m_DatasetKind\u001b[0m\u001b[0;34m.\u001b[0m\u001b[0mIterable\u001b[0m \u001b[0;32mand\u001b[0m\u001b[0;31m \u001b[0m\u001b[0;31m\\\u001b[0m\u001b[0;34m\u001b[0m\u001b[0;34m\u001b[0m\u001b[0m\n",
            "\u001b[0;32m/usr/local/lib/python3.8/dist-packages/torch/utils/data/dataloader.py\u001b[0m in \u001b[0;36m_next_data\u001b[0;34m(self)\u001b[0m\n\u001b[1;32m    669\u001b[0m     \u001b[0;32mdef\u001b[0m \u001b[0m_next_data\u001b[0m\u001b[0;34m(\u001b[0m\u001b[0mself\u001b[0m\u001b[0;34m)\u001b[0m\u001b[0;34m:\u001b[0m\u001b[0;34m\u001b[0m\u001b[0;34m\u001b[0m\u001b[0m\n\u001b[1;32m    670\u001b[0m         \u001b[0mindex\u001b[0m \u001b[0;34m=\u001b[0m \u001b[0mself\u001b[0m\u001b[0;34m.\u001b[0m\u001b[0m_next_index\u001b[0m\u001b[0;34m(\u001b[0m\u001b[0;34m)\u001b[0m  \u001b[0;31m# may raise StopIteration\u001b[0m\u001b[0;34m\u001b[0m\u001b[0;34m\u001b[0m\u001b[0m\n\u001b[0;32m--> 671\u001b[0;31m         \u001b[0mdata\u001b[0m \u001b[0;34m=\u001b[0m \u001b[0mself\u001b[0m\u001b[0;34m.\u001b[0m\u001b[0m_dataset_fetcher\u001b[0m\u001b[0;34m.\u001b[0m\u001b[0mfetch\u001b[0m\u001b[0;34m(\u001b[0m\u001b[0mindex\u001b[0m\u001b[0;34m)\u001b[0m  \u001b[0;31m# may raise StopIteration\u001b[0m\u001b[0;34m\u001b[0m\u001b[0;34m\u001b[0m\u001b[0m\n\u001b[0m\u001b[1;32m    672\u001b[0m         \u001b[0;32mif\u001b[0m \u001b[0mself\u001b[0m\u001b[0;34m.\u001b[0m\u001b[0m_pin_memory\u001b[0m\u001b[0;34m:\u001b[0m\u001b[0;34m\u001b[0m\u001b[0;34m\u001b[0m\u001b[0m\n\u001b[1;32m    673\u001b[0m             \u001b[0mdata\u001b[0m \u001b[0;34m=\u001b[0m \u001b[0m_utils\u001b[0m\u001b[0;34m.\u001b[0m\u001b[0mpin_memory\u001b[0m\u001b[0;34m.\u001b[0m\u001b[0mpin_memory\u001b[0m\u001b[0;34m(\u001b[0m\u001b[0mdata\u001b[0m\u001b[0;34m,\u001b[0m \u001b[0mself\u001b[0m\u001b[0;34m.\u001b[0m\u001b[0m_pin_memory_device\u001b[0m\u001b[0;34m)\u001b[0m\u001b[0;34m\u001b[0m\u001b[0;34m\u001b[0m\u001b[0m\n",
            "\u001b[0;32m/usr/local/lib/python3.8/dist-packages/torch/utils/data/_utils/fetch.py\u001b[0m in \u001b[0;36mfetch\u001b[0;34m(self, possibly_batched_index)\u001b[0m\n\u001b[1;32m     59\u001b[0m         \u001b[0;32melse\u001b[0m\u001b[0;34m:\u001b[0m\u001b[0;34m\u001b[0m\u001b[0;34m\u001b[0m\u001b[0m\n\u001b[1;32m     60\u001b[0m             \u001b[0mdata\u001b[0m \u001b[0;34m=\u001b[0m \u001b[0mself\u001b[0m\u001b[0;34m.\u001b[0m\u001b[0mdataset\u001b[0m\u001b[0;34m[\u001b[0m\u001b[0mpossibly_batched_index\u001b[0m\u001b[0;34m]\u001b[0m\u001b[0;34m\u001b[0m\u001b[0;34m\u001b[0m\u001b[0m\n\u001b[0;32m---> 61\u001b[0;31m         \u001b[0;32mreturn\u001b[0m \u001b[0mself\u001b[0m\u001b[0;34m.\u001b[0m\u001b[0mcollate_fn\u001b[0m\u001b[0;34m(\u001b[0m\u001b[0mdata\u001b[0m\u001b[0;34m)\u001b[0m\u001b[0;34m\u001b[0m\u001b[0;34m\u001b[0m\u001b[0m\n\u001b[0m",
            "\u001b[0;32m/usr/local/lib/python3.8/dist-packages/torch/utils/data/_utils/collate.py\u001b[0m in \u001b[0;36mdefault_collate\u001b[0;34m(batch)\u001b[0m\n\u001b[1;32m    263\u001b[0m             \u001b[0;34m>>\u001b[0m\u001b[0;34m>\u001b[0m \u001b[0mdefault_collate\u001b[0m\u001b[0;34m(\u001b[0m\u001b[0mbatch\u001b[0m\u001b[0;34m)\u001b[0m  \u001b[0;31m# Handle `CustomType` automatically\u001b[0m\u001b[0;34m\u001b[0m\u001b[0;34m\u001b[0m\u001b[0m\n\u001b[1;32m    264\u001b[0m     \"\"\"\n\u001b[0;32m--> 265\u001b[0;31m     \u001b[0;32mreturn\u001b[0m \u001b[0mcollate\u001b[0m\u001b[0;34m(\u001b[0m\u001b[0mbatch\u001b[0m\u001b[0;34m,\u001b[0m \u001b[0mcollate_fn_map\u001b[0m\u001b[0;34m=\u001b[0m\u001b[0mdefault_collate_fn_map\u001b[0m\u001b[0;34m)\u001b[0m\u001b[0;34m\u001b[0m\u001b[0;34m\u001b[0m\u001b[0m\n\u001b[0m",
            "\u001b[0;32m/usr/local/lib/python3.8/dist-packages/torch/utils/data/_utils/collate.py\u001b[0m in \u001b[0;36mcollate\u001b[0;34m(batch, collate_fn_map)\u001b[0m\n\u001b[1;32m    149\u001b[0m                 \u001b[0;32mreturn\u001b[0m \u001b[0;34m[\u001b[0m\u001b[0mcollate\u001b[0m\u001b[0;34m(\u001b[0m\u001b[0msamples\u001b[0m\u001b[0;34m,\u001b[0m \u001b[0mcollate_fn_map\u001b[0m\u001b[0;34m=\u001b[0m\u001b[0mcollate_fn_map\u001b[0m\u001b[0;34m)\u001b[0m \u001b[0;32mfor\u001b[0m \u001b[0msamples\u001b[0m \u001b[0;32min\u001b[0m \u001b[0mtransposed\u001b[0m\u001b[0;34m]\u001b[0m\u001b[0;34m\u001b[0m\u001b[0;34m\u001b[0m\u001b[0m\n\u001b[1;32m    150\u001b[0m \u001b[0;34m\u001b[0m\u001b[0m\n\u001b[0;32m--> 151\u001b[0;31m     \u001b[0;32mraise\u001b[0m \u001b[0mTypeError\u001b[0m\u001b[0;34m(\u001b[0m\u001b[0mdefault_collate_err_msg_format\u001b[0m\u001b[0;34m.\u001b[0m\u001b[0mformat\u001b[0m\u001b[0;34m(\u001b[0m\u001b[0melem_type\u001b[0m\u001b[0;34m)\u001b[0m\u001b[0;34m)\u001b[0m\u001b[0;34m\u001b[0m\u001b[0;34m\u001b[0m\u001b[0m\n\u001b[0m\u001b[1;32m    152\u001b[0m \u001b[0;34m\u001b[0m\u001b[0m\n\u001b[1;32m    153\u001b[0m \u001b[0;34m\u001b[0m\u001b[0m\n",
            "\u001b[0;31mTypeError\u001b[0m: default_collate: batch must contain tensors, numpy arrays, numbers, dicts or lists; found <class 'pathlib.PosixPath'>"
          ]
        }
      ]
    },
    {
      "cell_type": "code",
      "source": [
        "class AudioDataSet(Dataset) : \n",
        "  def __init__(self):\n",
        "    self.filelist = list(Path(\"./free-spoken-digit-dataset/recordings/\").glob(\"*.wav\"))\n",
        "    self.sr = 8000\n",
        "\n",
        "  def __len__(self):    \n",
        "    return len(self.filelist)\n",
        "\n",
        "  def __getitem__(self,idx):\n",
        "    audio_path = self.filelist[idx] \n",
        "    y,sr = torchaudio.load(audio_path)\n",
        "    label = int(audio_path.stem.split(\"_\")[0])\n",
        "    return y ,label  "
      ],
      "metadata": {
        "id": "8B-4jcfNtgk7"
      },
      "execution_count": 29,
      "outputs": []
    },
    {
      "cell_type": "code",
      "source": [
        "train = AudioDataSet()\n",
        "train[0]"
      ],
      "metadata": {
        "colab": {
          "base_uri": "https://localhost:8080/"
        },
        "id": "isoTX8S7uFiV",
        "outputId": "58245e20-3cbe-4595-919e-40d9858842f8"
      },
      "execution_count": 30,
      "outputs": [
        {
          "output_type": "execute_result",
          "data": {
            "text/plain": [
              "(tensor([[-0.0078, -0.0156, -0.0078,  ..., -0.0078, -0.0078, -0.0078]]), 8)"
            ]
          },
          "metadata": {},
          "execution_count": 30
        }
      ]
    },
    {
      "cell_type": "code",
      "source": [
        "n_epoch = 50\n",
        "train_loader = DataLoader(train)\n",
        "for epoch in range(n_epoch) :\n",
        "  for batch in train_loader :\n",
        "    pass"
      ],
      "metadata": {
        "colab": {
          "base_uri": "https://localhost:8080/",
          "height": 340
        },
        "id": "y2LPGEIyuKNx",
        "outputId": "b05a6eb4-fbb2-46dc-fdd1-24e43f4466fc"
      },
      "execution_count": 32,
      "outputs": [
        {
          "output_type": "error",
          "ename": "KeyboardInterrupt",
          "evalue": "ignored",
          "traceback": [
            "\u001b[0;31m---------------------------------------------------------------------------\u001b[0m",
            "\u001b[0;31mKeyboardInterrupt\u001b[0m                         Traceback (most recent call last)",
            "\u001b[0;32m<ipython-input-32-cbbfbf9eb1c1>\u001b[0m in \u001b[0;36m<module>\u001b[0;34m\u001b[0m\n\u001b[1;32m      2\u001b[0m \u001b[0mtrain_loader\u001b[0m \u001b[0;34m=\u001b[0m \u001b[0mDataLoader\u001b[0m\u001b[0;34m(\u001b[0m\u001b[0mtrain\u001b[0m\u001b[0;34m)\u001b[0m\u001b[0;34m\u001b[0m\u001b[0;34m\u001b[0m\u001b[0m\n\u001b[1;32m      3\u001b[0m \u001b[0;32mfor\u001b[0m \u001b[0mepoch\u001b[0m \u001b[0;32min\u001b[0m \u001b[0mrange\u001b[0m\u001b[0;34m(\u001b[0m\u001b[0mn_epoch\u001b[0m\u001b[0;34m)\u001b[0m \u001b[0;34m:\u001b[0m\u001b[0;34m\u001b[0m\u001b[0;34m\u001b[0m\u001b[0m\n\u001b[0;32m----> 4\u001b[0;31m   \u001b[0;32mfor\u001b[0m \u001b[0mbatch\u001b[0m \u001b[0;32min\u001b[0m \u001b[0mtrain_loader\u001b[0m \u001b[0;34m:\u001b[0m\u001b[0;34m\u001b[0m\u001b[0;34m\u001b[0m\u001b[0m\n\u001b[0m\u001b[1;32m      5\u001b[0m     \u001b[0;32mpass\u001b[0m\u001b[0;34m\u001b[0m\u001b[0;34m\u001b[0m\u001b[0m\n",
            "\u001b[0;32m/usr/local/lib/python3.8/dist-packages/torch/utils/data/dataloader.py\u001b[0m in \u001b[0;36m__next__\u001b[0;34m(self)\u001b[0m\n\u001b[1;32m    639\u001b[0m                                  \"https://pytorch.org/docs/stable/data.html#torch.utils.data.IterableDataset for examples.\")\n\u001b[1;32m    640\u001b[0m                 \u001b[0mwarnings\u001b[0m\u001b[0;34m.\u001b[0m\u001b[0mwarn\u001b[0m\u001b[0;34m(\u001b[0m\u001b[0mwarn_msg\u001b[0m\u001b[0;34m)\u001b[0m\u001b[0;34m\u001b[0m\u001b[0;34m\u001b[0m\u001b[0m\n\u001b[0;32m--> 641\u001b[0;31m             \u001b[0;32mreturn\u001b[0m \u001b[0mdata\u001b[0m\u001b[0;34m\u001b[0m\u001b[0;34m\u001b[0m\u001b[0m\n\u001b[0m\u001b[1;32m    642\u001b[0m \u001b[0;34m\u001b[0m\u001b[0m\n\u001b[1;32m    643\u001b[0m     \u001b[0;32mdef\u001b[0m \u001b[0m__len__\u001b[0m\u001b[0;34m(\u001b[0m\u001b[0mself\u001b[0m\u001b[0;34m)\u001b[0m \u001b[0;34m->\u001b[0m \u001b[0mint\u001b[0m\u001b[0;34m:\u001b[0m\u001b[0;34m\u001b[0m\u001b[0;34m\u001b[0m\u001b[0m\n",
            "\u001b[0;31mKeyboardInterrupt\u001b[0m: "
          ]
        }
      ]
    },
    {
      "cell_type": "markdown",
      "source": [
        "split train/valid/test"
      ],
      "metadata": {
        "id": "CgwSJFwXu8Ab"
      }
    },
    {
      "cell_type": "code",
      "source": [
        "class AudioDataSet(Dataset) : \n",
        "  def __init__(self,train=True):\n",
        "    self.filelist = list(Path(\"./free-spoken-digit-dataset/recordings/\").glob(\"*.wav\"))\n",
        "    self.sr = 8000\n",
        "    self.train_list,self.test_list = self._split_data()\n",
        "    #print(len(self.train_list),len(self.test_list))\n",
        "    if train :\n",
        "      self.audio_list = self.train_list\n",
        "    else :\n",
        "      self.audio_list = self.test_list\n",
        "\n",
        "  def _split_data(self) : \n",
        "    test_postfix = [0,1,2,3,4]\n",
        "    train_list =[]\n",
        "    test_list =[]\n",
        "\n",
        "    for path in self.filelist :\n",
        "      post_fix = int(path.stem.split(\"_\")[-1])      \n",
        "      if post_fix in test_postfix : \n",
        "        test_list.append(path)\n",
        "      else : \n",
        "        train_list.append(path)\n",
        "\n",
        "    return train_list,test_list\n",
        "\n",
        "  def __len__(self):    \n",
        "    return len(self.audio_list)\n",
        "\n",
        "  def __getitem__(self,idx):\n",
        "    audio_path = self.audio_list[idx] \n",
        "    y,sr = torchaudio.load(audio_path)\n",
        "    label = int(audio_path.stem.split(\"_\")[0])\n",
        "    return y ,label  "
      ],
      "metadata": {
        "id": "x9ij9-U5us3H"
      },
      "execution_count": 48,
      "outputs": []
    },
    {
      "cell_type": "code",
      "source": [
        "train = AudioDataSet(train=True)\n",
        "test = AudioDataSet(train=False)"
      ],
      "metadata": {
        "id": "yEXNqWlKwrYj"
      },
      "execution_count": 49,
      "outputs": []
    },
    {
      "cell_type": "markdown",
      "source": [
        "## 쉬는 시간 4시 41분부터 다시시작"
      ],
      "metadata": {
        "id": "zwLn_a2gyZRq"
      }
    },
    {
      "cell_type": "code",
      "source": [
        "import torch.nn as nn"
      ],
      "metadata": {
        "id": "eVaYgb3Zx87f"
      },
      "execution_count": 50,
      "outputs": []
    },
    {
      "cell_type": "code",
      "source": [
        "from math import ceil \n",
        "\n",
        "class MyModel(nn.Module):\n",
        "  def __init__(self):\n",
        "    super().__init__()\n",
        "    self.n_mels = 64\n",
        "    self.n_fft = 256\n",
        "    self.hop_length=self.n_fft//2\n",
        "    self.sr = 8000\n",
        "    self.n_frames = ceil(8000/self.hop_length)  \n",
        "     #input size = n_mels*n_frames, 64*79\n",
        "    self.n_classes = 10\n",
        "    self.hidden_dim = 1024\n",
        "    self.mel_converter = torchaudio.transforms.MelSpectrogram(sample_rate=self.sr,\n",
        "                                                              n_fft=self.n_fft,\n",
        "                                                              hop_length=self.hop_length,\n",
        "                                                              n_mels=self.n_mels)\n",
        "    self.db_converter = torchaudio.transforms.AmplitudeToDB()\n",
        "\n",
        "    self.nn_layer = nn.Sequential(\n",
        "                          nn.Linear(self.n_mels*self.n_frames,self.hidden_dim),\n",
        "                          nn.ReLU(),\n",
        "                          nn.Linear(self.hidden_dim,self.hidden_dim),                                   \n",
        "                          nn.ReLU(),\n",
        "                          nn.Linear(self.hidden_dim,self.hidden_dim),                                   \n",
        "                          nn.ReLU(),\n",
        "                          nn.Linear(self.hidden_dim,self.hidden_dim),                                   \n",
        "                          nn.ReLU(),\n",
        "                          nn.Linear(self.hidden_dim,self.n_classes)\n",
        "    )\n",
        "\n",
        "  def forward(self,x):\n",
        "    #print(x.shape)\n",
        "    spec = self.mel_converter(x)\n",
        "    #print(spec.shape)\n",
        "    if spec.dim() >2:\n",
        "      spec = spec.reshape(spec.shape[0],-1)\n",
        "    else :\n",
        "      spec = spec.flatten()\n",
        "    #print(spec.shape)\n",
        "    spec = self.db_converter(spec)\n",
        "    #print(spec.shape)\n",
        "    x = self.nn_layer(spec)\n",
        "    \n",
        "    return x\n",
        "\n",
        "\n",
        "      "
      ],
      "metadata": {
        "colab": {
          "base_uri": "https://localhost:8080/"
        },
        "id": "dwAw8WtiwxMI",
        "outputId": "f68262d6-d9d0-4d55-ea64-ad8d85aae6b5"
      },
      "execution_count": 47,
      "outputs": [
        {
          "output_type": "execute_result",
          "data": {
            "text/plain": [
              "(2700, 300)"
            ]
          },
          "metadata": {},
          "execution_count": 47
        }
      ]
    },
    {
      "cell_type": "markdown",
      "source": [],
      "metadata": {
        "id": "jOn46noxyY5b"
      }
    },
    {
      "cell_type": "code",
      "source": [],
      "metadata": {
        "id": "3qdiKmxXwzGq"
      },
      "execution_count": 49,
      "outputs": []
    },
    {
      "cell_type": "code",
      "source": [],
      "metadata": {
        "id": "AO9knRtvxTK1"
      },
      "execution_count": null,
      "outputs": []
    }
  ]
}