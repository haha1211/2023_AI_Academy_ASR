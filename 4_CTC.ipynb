{
  "nbformat": 4,
  "nbformat_minor": 0,
  "metadata": {
    "colab": {
      "provenance": [],
      "authorship_tag": "ABX9TyN2U38CiHNXe4nFWccgv8U7",
      "include_colab_link": true
    },
    "kernelspec": {
      "name": "python3",
      "display_name": "Python 3"
    },
    "language_info": {
      "name": "python"
    }
  },
  "cells": [
    {
      "cell_type": "markdown",
      "metadata": {
        "id": "view-in-github",
        "colab_type": "text"
      },
      "source": [
        "<a href=\"https://colab.research.google.com/github/june-oh/2023_AI_Academy_ASR/blob/main/4_CTC.ipynb\" target=\"_parent\"><img src=\"https://colab.research.google.com/assets/colab-badge.svg\" alt=\"Open In Colab\"/></a>"
      ]
    },
    {
      "cell_type": "markdown",
      "source": [
        "# RNN & CTC"
      ],
      "metadata": {
        "id": "85SVa0-CfOX-"
      }
    },
    {
      "cell_type": "markdown",
      "source": [
        "```\n",
        "!wget https://github.com/june-oh/2023_AI_Academy_ASR/raw/main/set.wav\n",
        "```"
      ],
      "metadata": {
        "id": "JvJngXtXfOOn"
      }
    },
    {
      "cell_type": "code",
      "execution_count": 1,
      "metadata": {
        "colab": {
          "base_uri": "https://localhost:8080/"
        },
        "id": "f82Ha0hKfMw3",
        "outputId": "ac2e2488-4da8-4bbd-a629-2eb1bbc413cc"
      },
      "outputs": [
        {
          "output_type": "stream",
          "name": "stdout",
          "text": [
            "--2023-02-08 05:26:48--  https://github.com/june-oh/2023_AI_Academy_ASR/raw/main/set.wav\n",
            "Resolving github.com (github.com)... 192.30.255.113\n",
            "Connecting to github.com (github.com)|192.30.255.113|:443... connected.\n",
            "HTTP request sent, awaiting response... 302 Found\n",
            "Location: https://raw.githubusercontent.com/june-oh/2023_AI_Academy_ASR/main/set.wav [following]\n",
            "--2023-02-08 05:26:48--  https://raw.githubusercontent.com/june-oh/2023_AI_Academy_ASR/main/set.wav\n",
            "Resolving raw.githubusercontent.com (raw.githubusercontent.com)... 185.199.108.133, 185.199.109.133, 185.199.110.133, ...\n",
            "Connecting to raw.githubusercontent.com (raw.githubusercontent.com)|185.199.108.133|:443... connected.\n",
            "HTTP request sent, awaiting response... 200 OK\n",
            "Length: 18998 (19K) [audio/wav]\n",
            "Saving to: ‘set.wav’\n",
            "\n",
            "set.wav             100%[===================>]  18.55K  --.-KB/s    in 0s      \n",
            "\n",
            "2023-02-08 05:26:48 (58.3 MB/s) - ‘set.wav’ saved [18998/18998]\n",
            "\n"
          ]
        }
      ],
      "source": [
        "!wget https://github.com/june-oh/2023_AI_Academy_ASR/raw/main/set.wav"
      ]
    },
    {
      "cell_type": "code",
      "source": [
        "!ls"
      ],
      "metadata": {
        "colab": {
          "base_uri": "https://localhost:8080/"
        },
        "id": "YPtbYEPUfYBA",
        "outputId": "386b5f7e-027d-436b-df17-dc86f7fdb404"
      },
      "execution_count": 2,
      "outputs": [
        {
          "output_type": "stream",
          "name": "stdout",
          "text": [
            "sample_data  set.wav\n"
          ]
        }
      ]
    },
    {
      "cell_type": "code",
      "source": [
        "import torch\n",
        "import torchaudio  #feature extraction\n",
        "import torch.nn as nn   # RNN module \n",
        "import IPython.display as ipd\n",
        "import matplotlib.pyplot as plt  #for visualization"
      ],
      "metadata": {
        "id": "3UIsvZiDfa_d"
      },
      "execution_count": 3,
      "outputs": []
    },
    {
      "cell_type": "code",
      "source": [],
      "metadata": {
        "id": "i1aEROhAfch5"
      },
      "execution_count": null,
      "outputs": []
    },
    {
      "cell_type": "markdown",
      "source": [
        "### torch.nn.RNN\n",
        "\n",
        "- input: tensor of shape $(L,H_{in})$ for unbatched input, $(L,N,H_{in}​)$ when `batch_first=False` or $(N,L,H_{in}​)$ when batch_first=True containing the features of the input sequence. The input can also be a packed variable length sequence. See `torch.nn.utils.rnn.pack_padded_sequence()` or `torch.nn.utils.rnn.pack_sequence()` for details.\n",
        "\n",
        "$$\n",
        "\\begin{aligned}\n",
        "N =& \\text{batch size} \\\\\n",
        "L =& \\text{sequence length} \\\\\n",
        "H_{in} =& \\text{input_size} \\\\\n",
        "\\end{aligned}\n",
        "$$"
      ],
      "metadata": {
        "id": "PPIdnVQmfgKD"
      }
    },
    {
      "cell_type": "code",
      "source": [],
      "metadata": {
        "id": "5gKppJr9ffni"
      },
      "execution_count": null,
      "outputs": []
    }
  ]
}