{
  "nbformat": 4,
  "nbformat_minor": 0,
  "metadata": {
    "colab": {
      "provenance": [],
      "authorship_tag": "ABX9TyM/C9iTLMWJxTNFIKPSdFVI",
      "include_colab_link": true
    },
    "kernelspec": {
      "name": "python3",
      "display_name": "Python 3"
    },
    "language_info": {
      "name": "python"
    },
    "widgets": {
      "application/vnd.jupyter.widget-state+json": {
        "fd9353b8e9fe4f388eb26a782da49a28": {
          "model_module": "@jupyter-widgets/controls",
          "model_name": "HBoxModel",
          "model_module_version": "1.5.0",
          "state": {
            "_dom_classes": [],
            "_model_module": "@jupyter-widgets/controls",
            "_model_module_version": "1.5.0",
            "_model_name": "HBoxModel",
            "_view_count": null,
            "_view_module": "@jupyter-widgets/controls",
            "_view_module_version": "1.5.0",
            "_view_name": "HBoxView",
            "box_style": "",
            "children": [
              "IPY_MODEL_d69a06e4969b4af3bd2a1c8b0c9c9737",
              "IPY_MODEL_e4d1086b0a7943f085a4db9a557b2d79",
              "IPY_MODEL_6dba252fcaf04e06b5283fb5a2c447c2"
            ],
            "layout": "IPY_MODEL_cef7ca78677a4a958c6308913941313b"
          }
        },
        "d69a06e4969b4af3bd2a1c8b0c9c9737": {
          "model_module": "@jupyter-widgets/controls",
          "model_name": "HTMLModel",
          "model_module_version": "1.5.0",
          "state": {
            "_dom_classes": [],
            "_model_module": "@jupyter-widgets/controls",
            "_model_module_version": "1.5.0",
            "_model_name": "HTMLModel",
            "_view_count": null,
            "_view_module": "@jupyter-widgets/controls",
            "_view_module_version": "1.5.0",
            "_view_name": "HTMLView",
            "description": "",
            "description_tooltip": null,
            "layout": "IPY_MODEL_9d66c0652c48459997020d6277506348",
            "placeholder": "​",
            "style": "IPY_MODEL_b810773f51bf462786f249477697ba8a",
            "value": "  0%"
          }
        },
        "e4d1086b0a7943f085a4db9a557b2d79": {
          "model_module": "@jupyter-widgets/controls",
          "model_name": "FloatProgressModel",
          "model_module_version": "1.5.0",
          "state": {
            "_dom_classes": [],
            "_model_module": "@jupyter-widgets/controls",
            "_model_module_version": "1.5.0",
            "_model_name": "FloatProgressModel",
            "_view_count": null,
            "_view_module": "@jupyter-widgets/controls",
            "_view_module_version": "1.5.0",
            "_view_name": "ProgressView",
            "bar_style": "danger",
            "description": "",
            "description_tooltip": null,
            "layout": "IPY_MODEL_8366531756e34ff38dfc7ae253070aa2",
            "max": 500,
            "min": 0,
            "orientation": "horizontal",
            "style": "IPY_MODEL_bf73759b74494597a0699fd469fb553a",
            "value": 0
          }
        },
        "6dba252fcaf04e06b5283fb5a2c447c2": {
          "model_module": "@jupyter-widgets/controls",
          "model_name": "HTMLModel",
          "model_module_version": "1.5.0",
          "state": {
            "_dom_classes": [],
            "_model_module": "@jupyter-widgets/controls",
            "_model_module_version": "1.5.0",
            "_model_name": "HTMLModel",
            "_view_count": null,
            "_view_module": "@jupyter-widgets/controls",
            "_view_module_version": "1.5.0",
            "_view_name": "HTMLView",
            "description": "",
            "description_tooltip": null,
            "layout": "IPY_MODEL_7bc699129c384f50aaf9020d8e9cd368",
            "placeholder": "​",
            "style": "IPY_MODEL_8fdf07bd8f644859b2c37fa00e7974a9",
            "value": " 0/500 [00:12&lt;?, ?it/s]"
          }
        },
        "cef7ca78677a4a958c6308913941313b": {
          "model_module": "@jupyter-widgets/base",
          "model_name": "LayoutModel",
          "model_module_version": "1.2.0",
          "state": {
            "_model_module": "@jupyter-widgets/base",
            "_model_module_version": "1.2.0",
            "_model_name": "LayoutModel",
            "_view_count": null,
            "_view_module": "@jupyter-widgets/base",
            "_view_module_version": "1.2.0",
            "_view_name": "LayoutView",
            "align_content": null,
            "align_items": null,
            "align_self": null,
            "border": null,
            "bottom": null,
            "display": null,
            "flex": null,
            "flex_flow": null,
            "grid_area": null,
            "grid_auto_columns": null,
            "grid_auto_flow": null,
            "grid_auto_rows": null,
            "grid_column": null,
            "grid_gap": null,
            "grid_row": null,
            "grid_template_areas": null,
            "grid_template_columns": null,
            "grid_template_rows": null,
            "height": null,
            "justify_content": null,
            "justify_items": null,
            "left": null,
            "margin": null,
            "max_height": null,
            "max_width": null,
            "min_height": null,
            "min_width": null,
            "object_fit": null,
            "object_position": null,
            "order": null,
            "overflow": null,
            "overflow_x": null,
            "overflow_y": null,
            "padding": null,
            "right": null,
            "top": null,
            "visibility": null,
            "width": null
          }
        },
        "9d66c0652c48459997020d6277506348": {
          "model_module": "@jupyter-widgets/base",
          "model_name": "LayoutModel",
          "model_module_version": "1.2.0",
          "state": {
            "_model_module": "@jupyter-widgets/base",
            "_model_module_version": "1.2.0",
            "_model_name": "LayoutModel",
            "_view_count": null,
            "_view_module": "@jupyter-widgets/base",
            "_view_module_version": "1.2.0",
            "_view_name": "LayoutView",
            "align_content": null,
            "align_items": null,
            "align_self": null,
            "border": null,
            "bottom": null,
            "display": null,
            "flex": null,
            "flex_flow": null,
            "grid_area": null,
            "grid_auto_columns": null,
            "grid_auto_flow": null,
            "grid_auto_rows": null,
            "grid_column": null,
            "grid_gap": null,
            "grid_row": null,
            "grid_template_areas": null,
            "grid_template_columns": null,
            "grid_template_rows": null,
            "height": null,
            "justify_content": null,
            "justify_items": null,
            "left": null,
            "margin": null,
            "max_height": null,
            "max_width": null,
            "min_height": null,
            "min_width": null,
            "object_fit": null,
            "object_position": null,
            "order": null,
            "overflow": null,
            "overflow_x": null,
            "overflow_y": null,
            "padding": null,
            "right": null,
            "top": null,
            "visibility": null,
            "width": null
          }
        },
        "b810773f51bf462786f249477697ba8a": {
          "model_module": "@jupyter-widgets/controls",
          "model_name": "DescriptionStyleModel",
          "model_module_version": "1.5.0",
          "state": {
            "_model_module": "@jupyter-widgets/controls",
            "_model_module_version": "1.5.0",
            "_model_name": "DescriptionStyleModel",
            "_view_count": null,
            "_view_module": "@jupyter-widgets/base",
            "_view_module_version": "1.2.0",
            "_view_name": "StyleView",
            "description_width": ""
          }
        },
        "8366531756e34ff38dfc7ae253070aa2": {
          "model_module": "@jupyter-widgets/base",
          "model_name": "LayoutModel",
          "model_module_version": "1.2.0",
          "state": {
            "_model_module": "@jupyter-widgets/base",
            "_model_module_version": "1.2.0",
            "_model_name": "LayoutModel",
            "_view_count": null,
            "_view_module": "@jupyter-widgets/base",
            "_view_module_version": "1.2.0",
            "_view_name": "LayoutView",
            "align_content": null,
            "align_items": null,
            "align_self": null,
            "border": null,
            "bottom": null,
            "display": null,
            "flex": null,
            "flex_flow": null,
            "grid_area": null,
            "grid_auto_columns": null,
            "grid_auto_flow": null,
            "grid_auto_rows": null,
            "grid_column": null,
            "grid_gap": null,
            "grid_row": null,
            "grid_template_areas": null,
            "grid_template_columns": null,
            "grid_template_rows": null,
            "height": null,
            "justify_content": null,
            "justify_items": null,
            "left": null,
            "margin": null,
            "max_height": null,
            "max_width": null,
            "min_height": null,
            "min_width": null,
            "object_fit": null,
            "object_position": null,
            "order": null,
            "overflow": null,
            "overflow_x": null,
            "overflow_y": null,
            "padding": null,
            "right": null,
            "top": null,
            "visibility": null,
            "width": null
          }
        },
        "bf73759b74494597a0699fd469fb553a": {
          "model_module": "@jupyter-widgets/controls",
          "model_name": "ProgressStyleModel",
          "model_module_version": "1.5.0",
          "state": {
            "_model_module": "@jupyter-widgets/controls",
            "_model_module_version": "1.5.0",
            "_model_name": "ProgressStyleModel",
            "_view_count": null,
            "_view_module": "@jupyter-widgets/base",
            "_view_module_version": "1.2.0",
            "_view_name": "StyleView",
            "bar_color": null,
            "description_width": ""
          }
        },
        "7bc699129c384f50aaf9020d8e9cd368": {
          "model_module": "@jupyter-widgets/base",
          "model_name": "LayoutModel",
          "model_module_version": "1.2.0",
          "state": {
            "_model_module": "@jupyter-widgets/base",
            "_model_module_version": "1.2.0",
            "_model_name": "LayoutModel",
            "_view_count": null,
            "_view_module": "@jupyter-widgets/base",
            "_view_module_version": "1.2.0",
            "_view_name": "LayoutView",
            "align_content": null,
            "align_items": null,
            "align_self": null,
            "border": null,
            "bottom": null,
            "display": null,
            "flex": null,
            "flex_flow": null,
            "grid_area": null,
            "grid_auto_columns": null,
            "grid_auto_flow": null,
            "grid_auto_rows": null,
            "grid_column": null,
            "grid_gap": null,
            "grid_row": null,
            "grid_template_areas": null,
            "grid_template_columns": null,
            "grid_template_rows": null,
            "height": null,
            "justify_content": null,
            "justify_items": null,
            "left": null,
            "margin": null,
            "max_height": null,
            "max_width": null,
            "min_height": null,
            "min_width": null,
            "object_fit": null,
            "object_position": null,
            "order": null,
            "overflow": null,
            "overflow_x": null,
            "overflow_y": null,
            "padding": null,
            "right": null,
            "top": null,
            "visibility": null,
            "width": null
          }
        },
        "8fdf07bd8f644859b2c37fa00e7974a9": {
          "model_module": "@jupyter-widgets/controls",
          "model_name": "DescriptionStyleModel",
          "model_module_version": "1.5.0",
          "state": {
            "_model_module": "@jupyter-widgets/controls",
            "_model_module_version": "1.5.0",
            "_model_name": "DescriptionStyleModel",
            "_view_count": null,
            "_view_module": "@jupyter-widgets/base",
            "_view_module_version": "1.2.0",
            "_view_name": "StyleView",
            "description_width": ""
          }
        },
        "041e29f0dc7245e2a4a38a2a02589a88": {
          "model_module": "@jupyter-widgets/controls",
          "model_name": "HBoxModel",
          "model_module_version": "1.5.0",
          "state": {
            "_dom_classes": [],
            "_model_module": "@jupyter-widgets/controls",
            "_model_module_version": "1.5.0",
            "_model_name": "HBoxModel",
            "_view_count": null,
            "_view_module": "@jupyter-widgets/controls",
            "_view_module_version": "1.5.0",
            "_view_name": "HBoxView",
            "box_style": "",
            "children": [
              "IPY_MODEL_0429db78e8f948a2bed8f1cc738433f2",
              "IPY_MODEL_faa6637326db4cbb8e5638347f30f5b0",
              "IPY_MODEL_9485563a9eca4d13ae6057b278ff03c3"
            ],
            "layout": "IPY_MODEL_d1173e62dc984af4825ec42b245b70c9"
          }
        },
        "0429db78e8f948a2bed8f1cc738433f2": {
          "model_module": "@jupyter-widgets/controls",
          "model_name": "HTMLModel",
          "model_module_version": "1.5.0",
          "state": {
            "_dom_classes": [],
            "_model_module": "@jupyter-widgets/controls",
            "_model_module_version": "1.5.0",
            "_model_name": "HTMLModel",
            "_view_count": null,
            "_view_module": "@jupyter-widgets/controls",
            "_view_module_version": "1.5.0",
            "_view_name": "HTMLView",
            "description": "",
            "description_tooltip": null,
            "layout": "IPY_MODEL_0f9b58f7a57f439399986717ce48b7cb",
            "placeholder": "​",
            "style": "IPY_MODEL_c893886189c84d0783d902785d77a654",
            "value": "100%"
          }
        },
        "faa6637326db4cbb8e5638347f30f5b0": {
          "model_module": "@jupyter-widgets/controls",
          "model_name": "FloatProgressModel",
          "model_module_version": "1.5.0",
          "state": {
            "_dom_classes": [],
            "_model_module": "@jupyter-widgets/controls",
            "_model_module_version": "1.5.0",
            "_model_name": "FloatProgressModel",
            "_view_count": null,
            "_view_module": "@jupyter-widgets/controls",
            "_view_module_version": "1.5.0",
            "_view_name": "ProgressView",
            "bar_style": "success",
            "description": "",
            "description_tooltip": null,
            "layout": "IPY_MODEL_b49e28c4ab7d47f8a25f8b85c9aabd6d",
            "max": 500,
            "min": 0,
            "orientation": "horizontal",
            "style": "IPY_MODEL_b1ed021b069d40f894753a3999a9684b",
            "value": 500
          }
        },
        "9485563a9eca4d13ae6057b278ff03c3": {
          "model_module": "@jupyter-widgets/controls",
          "model_name": "HTMLModel",
          "model_module_version": "1.5.0",
          "state": {
            "_dom_classes": [],
            "_model_module": "@jupyter-widgets/controls",
            "_model_module_version": "1.5.0",
            "_model_name": "HTMLModel",
            "_view_count": null,
            "_view_module": "@jupyter-widgets/controls",
            "_view_module_version": "1.5.0",
            "_view_name": "HTMLView",
            "description": "",
            "description_tooltip": null,
            "layout": "IPY_MODEL_1db34e7be1d7480e86a9cea708614d41",
            "placeholder": "​",
            "style": "IPY_MODEL_5ee1067be31346c4bfffee08b483a847",
            "value": " 500/500 [00:12&lt;00:00, 20.34it/s, loss=16.3]"
          }
        },
        "d1173e62dc984af4825ec42b245b70c9": {
          "model_module": "@jupyter-widgets/base",
          "model_name": "LayoutModel",
          "model_module_version": "1.2.0",
          "state": {
            "_model_module": "@jupyter-widgets/base",
            "_model_module_version": "1.2.0",
            "_model_name": "LayoutModel",
            "_view_count": null,
            "_view_module": "@jupyter-widgets/base",
            "_view_module_version": "1.2.0",
            "_view_name": "LayoutView",
            "align_content": null,
            "align_items": null,
            "align_self": null,
            "border": null,
            "bottom": null,
            "display": null,
            "flex": null,
            "flex_flow": null,
            "grid_area": null,
            "grid_auto_columns": null,
            "grid_auto_flow": null,
            "grid_auto_rows": null,
            "grid_column": null,
            "grid_gap": null,
            "grid_row": null,
            "grid_template_areas": null,
            "grid_template_columns": null,
            "grid_template_rows": null,
            "height": null,
            "justify_content": null,
            "justify_items": null,
            "left": null,
            "margin": null,
            "max_height": null,
            "max_width": null,
            "min_height": null,
            "min_width": null,
            "object_fit": null,
            "object_position": null,
            "order": null,
            "overflow": null,
            "overflow_x": null,
            "overflow_y": null,
            "padding": null,
            "right": null,
            "top": null,
            "visibility": null,
            "width": null
          }
        },
        "0f9b58f7a57f439399986717ce48b7cb": {
          "model_module": "@jupyter-widgets/base",
          "model_name": "LayoutModel",
          "model_module_version": "1.2.0",
          "state": {
            "_model_module": "@jupyter-widgets/base",
            "_model_module_version": "1.2.0",
            "_model_name": "LayoutModel",
            "_view_count": null,
            "_view_module": "@jupyter-widgets/base",
            "_view_module_version": "1.2.0",
            "_view_name": "LayoutView",
            "align_content": null,
            "align_items": null,
            "align_self": null,
            "border": null,
            "bottom": null,
            "display": null,
            "flex": null,
            "flex_flow": null,
            "grid_area": null,
            "grid_auto_columns": null,
            "grid_auto_flow": null,
            "grid_auto_rows": null,
            "grid_column": null,
            "grid_gap": null,
            "grid_row": null,
            "grid_template_areas": null,
            "grid_template_columns": null,
            "grid_template_rows": null,
            "height": null,
            "justify_content": null,
            "justify_items": null,
            "left": null,
            "margin": null,
            "max_height": null,
            "max_width": null,
            "min_height": null,
            "min_width": null,
            "object_fit": null,
            "object_position": null,
            "order": null,
            "overflow": null,
            "overflow_x": null,
            "overflow_y": null,
            "padding": null,
            "right": null,
            "top": null,
            "visibility": null,
            "width": null
          }
        },
        "c893886189c84d0783d902785d77a654": {
          "model_module": "@jupyter-widgets/controls",
          "model_name": "DescriptionStyleModel",
          "model_module_version": "1.5.0",
          "state": {
            "_model_module": "@jupyter-widgets/controls",
            "_model_module_version": "1.5.0",
            "_model_name": "DescriptionStyleModel",
            "_view_count": null,
            "_view_module": "@jupyter-widgets/base",
            "_view_module_version": "1.2.0",
            "_view_name": "StyleView",
            "description_width": ""
          }
        },
        "b49e28c4ab7d47f8a25f8b85c9aabd6d": {
          "model_module": "@jupyter-widgets/base",
          "model_name": "LayoutModel",
          "model_module_version": "1.2.0",
          "state": {
            "_model_module": "@jupyter-widgets/base",
            "_model_module_version": "1.2.0",
            "_model_name": "LayoutModel",
            "_view_count": null,
            "_view_module": "@jupyter-widgets/base",
            "_view_module_version": "1.2.0",
            "_view_name": "LayoutView",
            "align_content": null,
            "align_items": null,
            "align_self": null,
            "border": null,
            "bottom": null,
            "display": null,
            "flex": null,
            "flex_flow": null,
            "grid_area": null,
            "grid_auto_columns": null,
            "grid_auto_flow": null,
            "grid_auto_rows": null,
            "grid_column": null,
            "grid_gap": null,
            "grid_row": null,
            "grid_template_areas": null,
            "grid_template_columns": null,
            "grid_template_rows": null,
            "height": null,
            "justify_content": null,
            "justify_items": null,
            "left": null,
            "margin": null,
            "max_height": null,
            "max_width": null,
            "min_height": null,
            "min_width": null,
            "object_fit": null,
            "object_position": null,
            "order": null,
            "overflow": null,
            "overflow_x": null,
            "overflow_y": null,
            "padding": null,
            "right": null,
            "top": null,
            "visibility": null,
            "width": null
          }
        },
        "b1ed021b069d40f894753a3999a9684b": {
          "model_module": "@jupyter-widgets/controls",
          "model_name": "ProgressStyleModel",
          "model_module_version": "1.5.0",
          "state": {
            "_model_module": "@jupyter-widgets/controls",
            "_model_module_version": "1.5.0",
            "_model_name": "ProgressStyleModel",
            "_view_count": null,
            "_view_module": "@jupyter-widgets/base",
            "_view_module_version": "1.2.0",
            "_view_name": "StyleView",
            "bar_color": null,
            "description_width": ""
          }
        },
        "1db34e7be1d7480e86a9cea708614d41": {
          "model_module": "@jupyter-widgets/base",
          "model_name": "LayoutModel",
          "model_module_version": "1.2.0",
          "state": {
            "_model_module": "@jupyter-widgets/base",
            "_model_module_version": "1.2.0",
            "_model_name": "LayoutModel",
            "_view_count": null,
            "_view_module": "@jupyter-widgets/base",
            "_view_module_version": "1.2.0",
            "_view_name": "LayoutView",
            "align_content": null,
            "align_items": null,
            "align_self": null,
            "border": null,
            "bottom": null,
            "display": null,
            "flex": null,
            "flex_flow": null,
            "grid_area": null,
            "grid_auto_columns": null,
            "grid_auto_flow": null,
            "grid_auto_rows": null,
            "grid_column": null,
            "grid_gap": null,
            "grid_row": null,
            "grid_template_areas": null,
            "grid_template_columns": null,
            "grid_template_rows": null,
            "height": null,
            "justify_content": null,
            "justify_items": null,
            "left": null,
            "margin": null,
            "max_height": null,
            "max_width": null,
            "min_height": null,
            "min_width": null,
            "object_fit": null,
            "object_position": null,
            "order": null,
            "overflow": null,
            "overflow_x": null,
            "overflow_y": null,
            "padding": null,
            "right": null,
            "top": null,
            "visibility": null,
            "width": null
          }
        },
        "5ee1067be31346c4bfffee08b483a847": {
          "model_module": "@jupyter-widgets/controls",
          "model_name": "DescriptionStyleModel",
          "model_module_version": "1.5.0",
          "state": {
            "_model_module": "@jupyter-widgets/controls",
            "_model_module_version": "1.5.0",
            "_model_name": "DescriptionStyleModel",
            "_view_count": null,
            "_view_module": "@jupyter-widgets/base",
            "_view_module_version": "1.2.0",
            "_view_name": "StyleView",
            "description_width": ""
          }
        }
      }
    }
  },
  "cells": [
    {
      "cell_type": "markdown",
      "metadata": {
        "id": "view-in-github",
        "colab_type": "text"
      },
      "source": [
        "<a href=\"https://colab.research.google.com/github/june-oh/2023_AI_Academy_ASR/blob/main/4_CTC.ipynb\" target=\"_parent\"><img src=\"https://colab.research.google.com/assets/colab-badge.svg\" alt=\"Open In Colab\"/></a>"
      ]
    },
    {
      "cell_type": "markdown",
      "source": [
        "# RNN & CTC"
      ],
      "metadata": {
        "id": "85SVa0-CfOX-"
      }
    },
    {
      "cell_type": "markdown",
      "source": [
        "```\n",
        "!wget https://github.com/june-oh/2023_AI_Academy_ASR/raw/main/set.wav\n",
        "```"
      ],
      "metadata": {
        "id": "JvJngXtXfOOn"
      }
    },
    {
      "cell_type": "code",
      "execution_count": 4,
      "metadata": {
        "colab": {
          "base_uri": "https://localhost:8080/"
        },
        "id": "f82Ha0hKfMw3",
        "outputId": "7483c214-0638-4837-aca3-d83beb375059"
      },
      "outputs": [
        {
          "output_type": "stream",
          "name": "stdout",
          "text": [
            "--2023-02-08 05:34:06--  https://github.com/june-oh/2023_AI_Academy_ASR/raw/main/set.wav\n",
            "Resolving github.com (github.com)... 192.30.255.112\n",
            "Connecting to github.com (github.com)|192.30.255.112|:443... connected.\n",
            "HTTP request sent, awaiting response... 302 Found\n",
            "Location: https://raw.githubusercontent.com/june-oh/2023_AI_Academy_ASR/main/set.wav [following]\n",
            "--2023-02-08 05:34:06--  https://raw.githubusercontent.com/june-oh/2023_AI_Academy_ASR/main/set.wav\n",
            "Resolving raw.githubusercontent.com (raw.githubusercontent.com)... 185.199.108.133, 185.199.109.133, 185.199.110.133, ...\n",
            "Connecting to raw.githubusercontent.com (raw.githubusercontent.com)|185.199.108.133|:443... connected.\n",
            "HTTP request sent, awaiting response... 200 OK\n",
            "Length: 18998 (19K) [audio/wav]\n",
            "Saving to: ‘set.wav.1’\n",
            "\n",
            "set.wav.1           100%[===================>]  18.55K  --.-KB/s    in 0.001s  \n",
            "\n",
            "2023-02-08 05:34:06 (27.5 MB/s) - ‘set.wav.1’ saved [18998/18998]\n",
            "\n"
          ]
        }
      ],
      "source": [
        "!wget https://github.com/june-oh/2023_AI_Academy_ASR/raw/main/set.wav"
      ]
    },
    {
      "cell_type": "code",
      "source": [
        "!ls"
      ],
      "metadata": {
        "colab": {
          "base_uri": "https://localhost:8080/"
        },
        "id": "YPtbYEPUfYBA",
        "outputId": "e970ff30-4e15-4e66-f305-a227d356ecb0"
      },
      "execution_count": 7,
      "outputs": [
        {
          "output_type": "stream",
          "name": "stdout",
          "text": [
            "sample_data  set.wav\n"
          ]
        }
      ]
    },
    {
      "cell_type": "code",
      "source": [
        "import torch\n",
        "import torchaudio  #feature extraction\n",
        "import torch.nn as nn   # RNN module \n",
        "import IPython.display as ipd\n",
        "import matplotlib.pyplot as plt  #for visualization"
      ],
      "metadata": {
        "id": "3UIsvZiDfa_d"
      },
      "execution_count": 8,
      "outputs": []
    },
    {
      "cell_type": "code",
      "source": [
        "ipd.Audio(\"set.wav\")"
      ],
      "metadata": {
        "colab": {
          "base_uri": "https://localhost:8080/",
          "height": 61
        },
        "id": "i1aEROhAfch5",
        "outputId": "b8c35b1b-1ec1-4775-98c6-60d01dff0a3e"
      },
      "execution_count": 9,
      "outputs": [
        {
          "output_type": "execute_result",
          "data": {
            "text/plain": [
              "<IPython.lib.display.Audio object>"
            ],
            "text/html": [
              "\n",
              "                <audio  controls=\"controls\" >\n",
              "                    <source src=\"data:audio/x-wav;base64,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\" type=\"audio/x-wav\" />\n",
              "                    Your browser does not support the audio element.\n",
              "                </audio>\n",
              "              "
            ]
          },
          "metadata": {},
          "execution_count": 9
        }
      ]
    },
    {
      "cell_type": "code",
      "source": [
        "y,sr = torchaudio.load(\"set.wav\")\n",
        "y,sr"
      ],
      "metadata": {
        "colab": {
          "base_uri": "https://localhost:8080/"
        },
        "id": "Qesf6xnFhMd3",
        "outputId": "edca9817-9f08-492e-f1b8-fd006e1815f4"
      },
      "execution_count": 10,
      "outputs": [
        {
          "output_type": "execute_result",
          "data": {
            "text/plain": [
              "(tensor([[ 0.0000e+00,  6.1035e-05, -3.0518e-05,  ...,  3.0518e-05,\n",
              "           1.2207e-04, -1.5259e-04]]), 16000)"
            ]
          },
          "metadata": {},
          "execution_count": 10
        }
      ]
    },
    {
      "cell_type": "code",
      "source": [
        "y.shape"
      ],
      "metadata": {
        "colab": {
          "base_uri": "https://localhost:8080/"
        },
        "id": "BpmbUTCuhMbp",
        "outputId": "bba0b258-54fb-48a7-eb02-9edebee0d7b2"
      },
      "execution_count": 11,
      "outputs": [
        {
          "output_type": "execute_result",
          "data": {
            "text/plain": [
              "torch.Size([1, 9424])"
            ]
          },
          "metadata": {},
          "execution_count": 11
        }
      ]
    },
    {
      "cell_type": "markdown",
      "source": [
        "check duration(second)"
      ],
      "metadata": {
        "id": "AdMw1oG1hnKx"
      }
    },
    {
      "cell_type": "code",
      "source": [
        "y.shape[1]/ sr"
      ],
      "metadata": {
        "colab": {
          "base_uri": "https://localhost:8080/"
        },
        "id": "pjc5cghghk3X",
        "outputId": "abe26b6b-c618-4f82-b08d-74eb59ce39b0"
      },
      "execution_count": 12,
      "outputs": [
        {
          "output_type": "execute_result",
          "data": {
            "text/plain": [
              "0.589"
            ]
          },
          "metadata": {},
          "execution_count": 12
        }
      ]
    },
    {
      "cell_type": "code",
      "source": [],
      "metadata": {
        "id": "tzH2hetehtlr"
      },
      "execution_count": null,
      "outputs": []
    },
    {
      "cell_type": "code",
      "source": [
        "??torchaudio.transforms.MelSpectrogram"
      ],
      "metadata": {
        "id": "1Y58SwqihrJ9"
      },
      "execution_count": 13,
      "outputs": []
    },
    {
      "cell_type": "code",
      "source": [
        "n_fft = 512\n",
        "hop_length = n_fft // 2\n",
        "n_mels = 64\n",
        "sr = 16000\n",
        "\n",
        "mel_converter = torchaudio.transforms.MelSpectrogram(n_fft=n_fft,\n",
        "                                                     n_mels=n_mels,\n",
        "                                                     sample_rate=sr,\n",
        "                                                     hop_length=hop_length)\n",
        "\n",
        "db_convert = torchaudio.transforms.AmplitudeToDB()\n",
        "\n"
      ],
      "metadata": {
        "id": "pztpU0YDhrAj"
      },
      "execution_count": 14,
      "outputs": []
    },
    {
      "cell_type": "code",
      "source": [
        "spec = mel_converter(y)\n",
        "spec.shape"
      ],
      "metadata": {
        "colab": {
          "base_uri": "https://localhost:8080/"
        },
        "id": "2YzQ4drahMZJ",
        "outputId": "0f77d552-3705-4ca3-b9ce-8d0295f101df"
      },
      "execution_count": 16,
      "outputs": [
        {
          "output_type": "execute_result",
          "data": {
            "text/plain": [
              "torch.Size([1, 64, 37])"
            ]
          },
          "metadata": {},
          "execution_count": 16
        }
      ]
    },
    {
      "cell_type": "code",
      "source": [
        "plt.imshow(spec[0],origin=\"lower\",interpolation='nearest',aspect='auto')"
      ],
      "metadata": {
        "colab": {
          "base_uri": "https://localhost:8080/",
          "height": 282
        },
        "id": "Lpcv7NHRhMWd",
        "outputId": "83347dfb-10d5-4f7d-80b5-0993fa6d9c50"
      },
      "execution_count": 21,
      "outputs": [
        {
          "output_type": "execute_result",
          "data": {
            "text/plain": [
              "<matplotlib.image.AxesImage at 0x7f7f8882f7c0>"
            ]
          },
          "metadata": {},
          "execution_count": 21
        },
        {
          "output_type": "display_data",
          "data": {
            "text/plain": [
              "<Figure size 432x288 with 1 Axes>"
            ],
            "image/png": "[encoded data removed]"
          },
          "metadata": {
            "needs_background": "light"
          }
        }
      ]
    },
    {
      "cell_type": "code",
      "source": [
        "db_spec =db_convert(spec)\n",
        "plt.imshow(db_spec[0],origin=\"lower\",interpolation='nearest',aspect='auto')"
      ],
      "metadata": {
        "colab": {
          "base_uri": "https://localhost:8080/",
          "height": 282
        },
        "id": "bmshIo1Mi4Xw",
        "outputId": "7ed08fe6-d602-4714-924f-8966acc7761b"
      },
      "execution_count": 22,
      "outputs": [
        {
          "output_type": "execute_result",
          "data": {
            "text/plain": [
              "<matplotlib.image.AxesImage at 0x7f7f887f98e0>"
            ]
          },
          "metadata": {},
          "execution_count": 22
        },
        {
          "output_type": "display_data",
          "data": {
            "text/plain": [
              "<Figure size 432x288 with 1 Axes>"
            ],
            "image/png": "[encoded data removed]"
          },
          "metadata": {
            "needs_background": "light"
          }
        }
      ]
    },
    {
      "cell_type": "code",
      "source": [
        "plt.plot(y[0])"
      ],
      "metadata": {
        "colab": {
          "base_uri": "https://localhost:8080/",
          "height": 282
        },
        "id": "d-13rYUvi4Vd",
        "outputId": "dffb2bc7-47be-4148-af26-7d7ae78baa17"
      },
      "execution_count": 24,
      "outputs": [
        {
          "output_type": "execute_result",
          "data": {
            "text/plain": [
              "[<matplotlib.lines.Line2D at 0x7f7f8877aa60>]"
            ]
          },
          "metadata": {},
          "execution_count": 24
        },
        {
          "output_type": "display_data",
          "data": {
            "text/plain": [
              "<Figure size 432x288 with 1 Axes>"
            ],
            "image/png": "[encoded data removed]"
          },
          "metadata": {
            "needs_background": "light"
          }
        }
      ]
    },
    {
      "cell_type": "code",
      "source": [
        "x = torch.arange(len(y[0]))/sr\n",
        "plt.plot(x,y[0])"
      ],
      "metadata": {
        "colab": {
          "base_uri": "https://localhost:8080/",
          "height": 282
        },
        "id": "gou5d-2ni4TR",
        "outputId": "4b2b0387-451c-4b26-b4b4-556a906791c6"
      },
      "execution_count": 25,
      "outputs": [
        {
          "output_type": "execute_result",
          "data": {
            "text/plain": [
              "[<matplotlib.lines.Line2D at 0x7f7f886f9940>]"
            ]
          },
          "metadata": {},
          "execution_count": 25
        },
        {
          "output_type": "display_data",
          "data": {
            "text/plain": [
              "<Figure size 432x288 with 1 Axes>"
            ],
            "image/png": "[encoded data removed]"
          },
          "metadata": {
            "needs_background": "light"
          }
        }
      ]
    },
    {
      "cell_type": "markdown",
      "source": [
        "# gen character dict\n",
        "```\n",
        "'a' : 1 , 'b' : 2 , 'c':3 ... 'z':26\n",
        "```"
      ],
      "metadata": {
        "id": "CvdOU49bkP5V"
      }
    },
    {
      "cell_type": "code",
      "source": [
        "import string"
      ],
      "metadata": {
        "id": "bl-PZUX-i4NV"
      },
      "execution_count": 26,
      "outputs": []
    },
    {
      "cell_type": "code",
      "source": [
        "char_set = dict(zip(string.ascii_lowercase,range(1,27)))\n",
        "char_set['blk']=0"
      ],
      "metadata": {
        "id": "I4ii9JFdi4LK"
      },
      "execution_count": 32,
      "outputs": []
    },
    {
      "cell_type": "code",
      "source": [
        "char_set"
      ],
      "metadata": {
        "colab": {
          "base_uri": "https://localhost:8080/"
        },
        "id": "OE0wua2RlImQ",
        "outputId": "4df2bd9f-d782-42e8-ea27-be1e8f5a4dc6"
      },
      "execution_count": 34,
      "outputs": [
        {
          "output_type": "execute_result",
          "data": {
            "text/plain": [
              "{'a': 1,\n",
              " 'b': 2,\n",
              " 'c': 3,\n",
              " 'd': 4,\n",
              " 'e': 5,\n",
              " 'f': 6,\n",
              " 'g': 7,\n",
              " 'h': 8,\n",
              " 'i': 9,\n",
              " 'j': 10,\n",
              " 'k': 11,\n",
              " 'l': 12,\n",
              " 'm': 13,\n",
              " 'n': 14,\n",
              " 'o': 15,\n",
              " 'p': 16,\n",
              " 'q': 17,\n",
              " 'r': 18,\n",
              " 's': 19,\n",
              " 't': 20,\n",
              " 'u': 21,\n",
              " 'v': 22,\n",
              " 'w': 23,\n",
              " 'x': 24,\n",
              " 'y': 25,\n",
              " 'z': 26,\n",
              " 'blk': 0}"
            ]
          },
          "metadata": {},
          "execution_count": 34
        }
      ]
    },
    {
      "cell_type": "markdown",
      "source": [
        "### torch.nn.RNN\n",
        "\n",
        "- input: tensor of shape $(L,H_{in})$ for unbatched input, $(L,N,H_{in}​)$ when `batch_first=False` or $(N,L,H_{in}​)$ when batch_first=True containing the features of the input sequence. The input can also be a packed variable length sequence. See `torch.nn.utils.rnn.pack_padded_sequence()` or `torch.nn.utils.rnn.pack_sequence()` for details.\n",
        "\n",
        "$$\n",
        "\\begin{aligned}\n",
        "N =& \\text{batch size} \\\\\n",
        "L =& \\text{sequence length} \\\\\n",
        "H_{in} =& \\text{input_size} \\\\\n",
        "\\end{aligned}\n",
        "$$\n",
        "\n",
        "\n",
        "\n",
        "#arg of nn.RNN\n",
        ">input_size: The number of expected features in the input `x`\n",
        ">        \n",
        ">hidden_size: The number of features in the hidden state `h`\n",
        ">        \n",
        ">num_layers: Number of recurrent layers. E.g., setting ``num_layers=2``\n",
        ">            would mean stacking two RNNs together to form a `stacked RNN`,\n",
        ">            with the second RNN taking in outputs of the first RNN and\n",
        ">            computing the final results. Default: 1"
      ],
      "metadata": {
        "id": "PPIdnVQmfgKD"
      }
    },
    {
      "cell_type": "code",
      "source": [
        "??nn.Softmax"
      ],
      "metadata": {
        "id": "5gKppJr9ffni"
      },
      "execution_count": 67,
      "outputs": []
    },
    {
      "cell_type": "code",
      "source": [
        "db_spec.shape"
      ],
      "metadata": {
        "colab": {
          "base_uri": "https://localhost:8080/"
        },
        "id": "KK_0Udcslaq_",
        "outputId": "2cb830d3-dd3f-41a7-e363-aa2f3bcd4138"
      },
      "execution_count": 36,
      "outputs": [
        {
          "output_type": "execute_result",
          "data": {
            "text/plain": [
              "torch.Size([1, 64, 37])"
            ]
          },
          "metadata": {},
          "execution_count": 36
        }
      ]
    },
    {
      "cell_type": "code",
      "source": [
        "class RNNModel(nn.Module):\n",
        "  def __init__(self):\n",
        "    super().__init__()\n",
        "    self.n_classes = 27 # # of char_set \n",
        "    self.n_fft = 512\n",
        "    self.n_mels = 64      # input_size of nn.RNN\n",
        "    self.hop_length = n_fft // 2\n",
        "    self.sr = 16000\n",
        "    self.hidden_dim = 64\n",
        "    self.n_char = 27\n",
        "\n",
        "    self.mel_converter = torchaudio.transforms.MelSpectrogram(n_fft =self.n_fft,\n",
        "                                                              n_mels = self.n_mels,\n",
        "                                                              hop_length=self.hop_length,\n",
        "                                                              sample_rate=self.sr\n",
        "                                                              )\n",
        "    self.db_converter  = torchaudio.transforms.AmplitudeToDB()\n",
        "\n",
        "    self.rnn = nn.RNN(self.n_mels, self.hidden_dim, 2, batch_first=True)\n",
        "    self.output_layer = nn.RNN(self.hidden_dim,self.n_char,1,batch_first=True)\n",
        "    self.softmax = nn.Softmax(dim=-1)\n",
        "\n",
        "\n",
        "  def forward(self,x):\n",
        "    #featrue extraction\n",
        "    x = self.mel_converter(x)\n",
        "    x = self.db_converter(x)\n",
        "    x = x.transpose(1,2)\n",
        "    x, _ = self.rnn(x)\n",
        "    x, _ = self.output_layer(x)\n",
        "    x = torch.nn.functional.log_softmax(x,dim=-1)\n",
        "\n",
        "    return x\n",
        "\n",
        "    #layer forward-propagatino\n",
        "\n",
        "    \n"
      ],
      "metadata": {
        "id": "ni4_T5yBllil"
      },
      "execution_count": 96,
      "outputs": []
    },
    {
      "cell_type": "code",
      "source": [
        "db_spec.shape     # [1,64,37]\n",
        "\n",
        "db_spec.transpose(1,2).shape"
      ],
      "metadata": {
        "colab": {
          "base_uri": "https://localhost:8080/"
        },
        "id": "5oVR5WuiqxU9",
        "outputId": "abf94222-7e8b-41b8-93f4-4d8747709b3c"
      },
      "execution_count": 97,
      "outputs": [
        {
          "output_type": "execute_result",
          "data": {
            "text/plain": [
              "torch.Size([1, 37, 64])"
            ]
          },
          "metadata": {},
          "execution_count": 97
        }
      ]
    },
    {
      "cell_type": "code",
      "source": [
        "model = RNNModel()"
      ],
      "metadata": {
        "id": "RusF4syOpD3W"
      },
      "execution_count": 98,
      "outputs": []
    },
    {
      "cell_type": "code",
      "source": [
        "out = model(y)"
      ],
      "metadata": {
        "id": "lKMT9O3nqPTR"
      },
      "execution_count": 99,
      "outputs": []
    },
    {
      "cell_type": "code",
      "source": [
        "type(out)"
      ],
      "metadata": {
        "colab": {
          "base_uri": "https://localhost:8080/"
        },
        "id": "ulc8Qd6vqfBF",
        "outputId": "3ba39ef9-6f23-49ff-c765-0d74e79a480e"
      },
      "execution_count": 100,
      "outputs": [
        {
          "output_type": "execute_result",
          "data": {
            "text/plain": [
              "torch.Tensor"
            ]
          },
          "metadata": {},
          "execution_count": 100
        }
      ]
    },
    {
      "cell_type": "code",
      "source": [
        "plt.imshow(out.cpu().detach().numpy()[0])"
      ],
      "metadata": {
        "colab": {
          "base_uri": "https://localhost:8080/",
          "height": 283
        },
        "id": "iLxPAfPsr0-V",
        "outputId": "d2c92a88-6447-4b88-936a-34e18296aac0"
      },
      "execution_count": 101,
      "outputs": [
        {
          "output_type": "execute_result",
          "data": {
            "text/plain": [
              "<matplotlib.image.AxesImage at 0x7f7f8821cc10>"
            ]
          },
          "metadata": {},
          "execution_count": 101
        },
        {
          "output_type": "display_data",
          "data": {
            "text/plain": [
              "<Figure size 432x288 with 1 Axes>"
            ],
            "image/png": "[encoded data removed]"
          },
          "metadata": {
            "needs_background": "light"
          }
        }
      ]
    },
    {
      "cell_type": "code",
      "source": [
        "char_list = sorted(char_set, key = lambda x: char_set[x])"
      ],
      "metadata": {
        "id": "MucLudT3sWOq"
      },
      "execution_count": 102,
      "outputs": []
    },
    {
      "cell_type": "code",
      "source": [
        "plt.figure(figsize=(10,5),dpi=120)\n",
        "plt.imshow(out[0].detach().numpy().T,aspect='auto',interpolation='nearest',origin='lower')\n",
        "ax = plt.gca()\n",
        "ax.set_yticks(range(0,27))\n",
        "ax.set_yticklabels(char_list)\n",
        "plt.show()"
      ],
      "metadata": {
        "colab": {
          "base_uri": "https://localhost:8080/",
          "height": 523
        },
        "id": "C-TxZ0wqr4Xj",
        "outputId": "10deeffe-bbae-45a6-dd16-bda10e488e8a"
      },
      "execution_count": 103,
      "outputs": [
        {
          "output_type": "display_data",
          "data": {
            "text/plain": [
              "<Figure size 1200x600 with 1 Axes>"
            ],
            "image/png": "[encoded data removed]"
          },
          "metadata": {
            "needs_background": "light"
          }
        }
      ]
    },
    {
      "cell_type": "code",
      "source": [
        "??nn.CTCLoss"
      ],
      "metadata": {
        "id": "IEKPplvgwgMB"
      },
      "execution_count": 107,
      "outputs": []
    },
    {
      "cell_type": "code",
      "source": [
        "torch.tensor([[char_set['s'],char_set['e'],char_set['t']]]).shape"
      ],
      "metadata": {
        "colab": {
          "base_uri": "https://localhost:8080/"
        },
        "id": "8P8ETDtBxWez",
        "outputId": "1aea8ae3-fd65-4f42-ea6c-83bf12d18e32"
      },
      "execution_count": 106,
      "outputs": [
        {
          "output_type": "execute_result",
          "data": {
            "text/plain": [
              "torch.Size([1, 3])"
            ]
          },
          "metadata": {},
          "execution_count": 106
        }
      ]
    },
    {
      "cell_type": "code",
      "source": [
        "from tqdm.auto import tqdm\n",
        "\n",
        "\n",
        "num_epoch =500\n",
        "ctc_loss = nn.CTCLoss()  # CTC loss, loss_fn\n",
        "\n",
        "target = torch.tensor([[char_set['s'],char_set['e'],char_set['t']]],dtype=torch.int64)  # set -> 19,5,20\n",
        "target_lengths=torch.tensor([[3]])  # target length = 3 \n",
        "print(target,target_lengths)\n",
        "y,sr = torchaudio.load(\"set.wav\")  #datset 에 위치해야하는 statement \n",
        "batch = [[y,target]]\n",
        "print(target.shape,target.dtype)\n",
        "\n",
        "device = 'cuda' if torch.cuda.is_available() else 'cpu'\n",
        "model=RNNModel()\n",
        "model.to(device)\n",
        "optimizer = torch.optim.Adam(model.parameters(),lr=0.001)\n",
        "#out = torch.randn((37,27))\n",
        "losses = []\n",
        "#ctc_loss = nn.CTCLoss()\n",
        "input_lengths = torch.tensor(37)\n",
        "\n",
        "pbar = tqdm(range(num_epoch))\n",
        "for e in  pbar:  \n",
        "  for sample in batch:    \n",
        "    x,y = sample\n",
        "    x = x.to(device)\n",
        "    y = y.to(device)\n",
        "    pred = model(x)\n",
        "    #print(input.shape)\n",
        "    #pred = torch.argmax(input, dim=-1)\n",
        "    #logit = torch.zeros_like(input).scatter_(1, pred.unsqueeze(1), 1.)    \n",
        "    #input_lengths = torch.tensor([input.shape[1]])\n",
        "    #print(pred.shape, target.shape, input_lengths, target_lengths)\n",
        "    loss = ctc_loss(pred.squeeze(0), target, input_lengths, target_lengths)\n",
        "    pbar.set_postfix({'loss': loss.item()})\n",
        "    losses.append(loss.item())\n",
        "    optimizer.zero_grad()\n",
        "    loss.backward()\n",
        "    optimizer.step()\n",
        "    \n",
        "plt.plot(losses)"
      ],
      "metadata": {
        "colab": {
          "base_uri": "https://localhost:8080/",
          "height": 381,
          "referenced_widgets": [
            "fd9353b8e9fe4f388eb26a782da49a28",
            "d69a06e4969b4af3bd2a1c8b0c9c9737",
            "e4d1086b0a7943f085a4db9a557b2d79",
            "6dba252fcaf04e06b5283fb5a2c447c2",
            "cef7ca78677a4a958c6308913941313b",
            "9d66c0652c48459997020d6277506348",
            "b810773f51bf462786f249477697ba8a",
            "8366531756e34ff38dfc7ae253070aa2",
            "bf73759b74494597a0699fd469fb553a",
            "7bc699129c384f50aaf9020d8e9cd368",
            "8fdf07bd8f644859b2c37fa00e7974a9",
            "041e29f0dc7245e2a4a38a2a02589a88",
            "0429db78e8f948a2bed8f1cc738433f2",
            "faa6637326db4cbb8e5638347f30f5b0",
            "9485563a9eca4d13ae6057b278ff03c3",
            "d1173e62dc984af4825ec42b245b70c9",
            "0f9b58f7a57f439399986717ce48b7cb",
            "c893886189c84d0783d902785d77a654",
            "b49e28c4ab7d47f8a25f8b85c9aabd6d",
            "b1ed021b069d40f894753a3999a9684b",
            "1db34e7be1d7480e86a9cea708614d41",
            "5ee1067be31346c4bfffee08b483a847"
          ]
        },
        "id": "MT1iBVoQswfF",
        "outputId": "8f417be7-5636-4510-fbea-89cb930853ad"
      },
      "execution_count": 119,
      "outputs": [
        {
          "output_type": "stream",
          "name": "stdout",
          "text": [
            "tensor([[19,  5, 20]]) tensor([[3]])\n",
            "torch.Size([1, 3]) torch.int64\n"
          ]
        },
        {
          "output_type": "display_data",
          "data": {
            "text/plain": [
              "  0%|          | 0/500 [00:00<?, ?it/s]"
            ],
            "application/vnd.jupyter.widget-view+json": {
              "version_major": 2,
              "version_minor": 0,
              "model_id": "fd9353b8e9fe4f388eb26a782da49a28"
            }
          },
          "metadata": {}
        },
        {
          "output_type": "display_data",
          "data": {
            "text/plain": [
              "  0%|          | 0/500 [00:00<?, ?it/s]"
            ],
            "application/vnd.jupyter.widget-view+json": {
              "version_major": 2,
              "version_minor": 0,
              "model_id": "041e29f0dc7245e2a4a38a2a02589a88"
            }
          },
          "metadata": {}
        },
        {
          "output_type": "execute_result",
          "data": {
            "text/plain": [
              "[<matplotlib.lines.Line2D at 0x7f7f88437280>]"
            ]
          },
          "metadata": {},
          "execution_count": 119
        },
        {
          "output_type": "display_data",
          "data": {
            "text/plain": [
              "<Figure size 432x288 with 1 Axes>"
            ],
            "image/png": "[encoded data removed]"
          },
          "metadata": {
            "needs_background": "light"
          }
        }
      ]
    },
    {
      "cell_type": "code",
      "source": [
        "wav, sr = torchaudio.load(\"set.wav\")\n",
        "out = model(wav)"
      ],
      "metadata": {
        "id": "tI5LZjrXzOux"
      },
      "execution_count": 120,
      "outputs": []
    },
    {
      "cell_type": "code",
      "source": [
        "def plot_ctc(out,epoch) :\n",
        "  plt.figure(figsize=(8,4),dpi=100)\n",
        "  plt.imshow(out[0].detach().numpy().T,aspect='auto',interpolation='nearest',origin='lower')\n",
        "  plt.title(f\"epoch : {epoch}\")\n",
        "  ax = plt.gca()\n",
        "  ax.set_yticks(range(0,27))\n",
        "  ax.set_yticklabels(char_list)\n",
        "  plt.colorbar()\n",
        "  plt.show()\n"
      ],
      "metadata": {
        "id": "0i01eD5nziG5"
      },
      "execution_count": 128,
      "outputs": []
    },
    {
      "cell_type": "code",
      "source": [
        "plot_ctc(out,10)"
      ],
      "metadata": {
        "colab": {
          "base_uri": "https://localhost:8080/",
          "height": 385
        },
        "id": "R4MBHdlFz_fK",
        "outputId": "5c706682-d36a-43ba-b1bb-487259ed78cf"
      },
      "execution_count": 129,
      "outputs": [
        {
          "output_type": "display_data",
          "data": {
            "text/plain": [
              "<Figure size 800x400 with 2 Axes>"
            ],
            "image/png": "[encoded data removed]"
          },
          "metadata": {
            "needs_background": "light"
          }
        }
      ]
    },
    {
      "cell_type": "code",
      "source": [
        "from tqdm.auto import tqdm\n",
        "\n",
        "\n",
        "num_epoch =500\n",
        "ctc_loss = nn.CTCLoss()  # CTC loss, loss_fn\n",
        "\n",
        "target = torch.tensor([[char_set['s'],char_set['e'],char_set['t']]],dtype=torch.int64)  # set -> 19,5,20\n",
        "target_lengths=torch.tensor([[3]])  # target length = 3 \n",
        "print(target,target_lengths)\n",
        "y,sr = torchaudio.load(\"set.wav\")  #datset 에 위치해야하는 statement \n",
        "batch = [[y,target]]\n",
        "print(target.shape,target.dtype)\n",
        "\n",
        "device = 'cuda' if torch.cuda.is_available() else 'cpu'\n",
        "model=RNNModel()\n",
        "model.to(device)\n",
        "optimizer = torch.optim.Adam(model.parameters(),lr=0.001)\n",
        "#out = torch.randn((37,27))\n",
        "losses = []\n",
        "#ctc_loss = nn.CTCLoss()\n",
        "input_lengths = torch.tensor(37)\n",
        "\n",
        "pbar = tqdm(range(num_epoch))\n",
        "for e in  pbar:  \n",
        "  for sample in batch:    \n",
        "    x,y = sample\n",
        "    x = x.to(device)\n",
        "    y = y.to(device)\n",
        "    pred = model(x)\n",
        "    #print(input.shape)\n",
        "    #pred = torch.argmax(input, dim=-1)\n",
        "    #logit = torch.zeros_like(input).scatter_(1, pred.unsqueeze(1), 1.)    \n",
        "    #input_lengths = torch.tensor([input.shape[1]])\n",
        "    #print(pred.shape, target.shape, input_lengths, target_lengths)\n",
        "    loss = ctc_loss(pred.squeeze(0), target, input_lengths, target_lengths)\n",
        "    pbar.set_postfix({'loss': loss.item()})\n",
        "    losses.append(loss.item())\n",
        "    optimizer.zero_grad()\n",
        "    loss.backward()\n",
        "    optimizer.step()\n",
        "    \n",
        "plt.plot(losses)"
      ],
      "metadata": {
        "id": "RVNXpFyX01tu"
      },
      "execution_count": null,
      "outputs": []
    }
  ]
}